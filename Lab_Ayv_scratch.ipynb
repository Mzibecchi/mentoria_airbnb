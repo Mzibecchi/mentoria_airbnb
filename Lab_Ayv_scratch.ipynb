{
 "cells": [
  {
   "cell_type": "markdown",
   "metadata": {},
   "source": [
    "# ¿A dónde realizan su primera reserva los nuevos usuarios de Airbnb?\n",
    "\n",
    "Durante este práctico vamos a trabajar sobre el dataset [Airbnb New User Bookings](https://www.kaggle.com/c/airbnb-recruiting-new-user-bookings/data) de Kaggle.\n",
    "\n",
    "Airbnb nos ofrece una lista de usuarios (todos de EEUU) junto con sus datos demográficos, registros de sesiones web y algunas estadísticas extras. Hay 12 posibles resultados del país de destino:  __US__, __FR__, __CA__, __GB__, __ES__, __IT__, __PT__, __NL__, __DE__, __AU__, __NDF__ (no se ha encontrado ningún destino), y __other__. \n",
    "\n",
    "Las variables con las que trabaja el dataset son:\n",
    " * __id__: identificación de usuario.\n",
    " * __date_account_created__: fecha de la creación de la cuenta.\n",
    " * __timestamp_first_active__: timestamp de primera actividad.\n",
    " * __date_first_booking__: fecha de primer viaje.\n",
    " * __gender__: género.\n",
    " * __age__: edad.\n",
    " * __signup_method__: método de registración.\n",
    " * __signup_flow__: la página desde la cual un usuario vino a registrarse.\n",
    " * __language__: preferencia de idioma internacional.\n",
    " * __affiliate_channel__: tipo de marketing pagado.\n",
    " * __affiliate_provider__: de donde es el marketing.\n",
    " * __first_affiliate_tracked__: seguimiento previo a la registración.\n",
    " * __signup_app__: aplicación de registración.\n",
    " * __first_device_type__: tipo de dispositivo.\n",
    " * __first_browser__: búscador.\n",
    " * __country_destination__: país escogido para realizar un viaje.\n",
    "\n",
    "## Objetivo y alcance:\n",
    "\n",
    "En este laboratorio realizaremos un trabajo de exploración sobre el dataset de Airbnb y luego una posterior comunicación de dichos resultados, pensando que nuestro análisis será utilizado por el __área de marketing de la empresa__, para el diseño de nuevas estrategias comerciales.\n",
    "\n",
    "  * Realizar análisis de estadística descriptiva sobre los datos, tanto en una como en múltiples variables.\n",
    "  * Comunicar aspectos de los datos a través de visualizaciones.\n",
    "  * Resolver y proponer preguntas de interpretación no triviales.\n",
    "\n",
    "## Estructura del informe:\n",
    "\n",
    "  * Jupyter Notebook con el análisis realizado.\n",
    "  * Reporte para el área de marketing, el formato queda a libre consideración del alumno, por ejemplo: página web, whitepaper, presentación, etc.  "
   ]
  },
  {
   "cell_type": "markdown",
   "metadata": {},
   "source": [
    "---"
   ]
  },
  {
   "cell_type": "code",
   "execution_count": 99,
   "metadata": {},
   "outputs": [],
   "source": [
    "import numpy as np\n",
    "import pandas as pd \n",
    "import seaborn as sns\n",
    "import matplotlib.pyplot as plt\n",
    "import matplotlib as mpl\n",
    "import warnings\n",
    "warnings.filterwarnings(\"ignore\")\n",
    "%matplotlib inline"
   ]
  },
  {
   "cell_type": "code",
   "execution_count": 100,
   "metadata": {},
   "outputs": [
    {
     "data": {
      "text/html": [
       "<div>\n",
       "<style scoped>\n",
       "    .dataframe tbody tr th:only-of-type {\n",
       "        vertical-align: middle;\n",
       "    }\n",
       "\n",
       "    .dataframe tbody tr th {\n",
       "        vertical-align: top;\n",
       "    }\n",
       "\n",
       "    .dataframe thead th {\n",
       "        text-align: right;\n",
       "    }\n",
       "</style>\n",
       "<table border=\"1\" class=\"dataframe\">\n",
       "  <thead>\n",
       "    <tr style=\"text-align: right;\">\n",
       "      <th></th>\n",
       "      <th>id</th>\n",
       "      <th>date_account_created</th>\n",
       "      <th>timestamp_first_active</th>\n",
       "      <th>date_first_booking</th>\n",
       "      <th>gender</th>\n",
       "      <th>age</th>\n",
       "      <th>signup_method</th>\n",
       "      <th>signup_flow</th>\n",
       "      <th>language</th>\n",
       "      <th>affiliate_channel</th>\n",
       "      <th>affiliate_provider</th>\n",
       "      <th>first_affiliate_tracked</th>\n",
       "      <th>signup_app</th>\n",
       "      <th>first_device_type</th>\n",
       "      <th>first_browser</th>\n",
       "      <th>country_destination</th>\n",
       "    </tr>\n",
       "  </thead>\n",
       "  <tbody>\n",
       "    <tr>\n",
       "      <th>0</th>\n",
       "      <td>gxn3p5htnn</td>\n",
       "      <td>2010-06-28</td>\n",
       "      <td>20090319043255</td>\n",
       "      <td>NaN</td>\n",
       "      <td>-unknown-</td>\n",
       "      <td>NaN</td>\n",
       "      <td>facebook</td>\n",
       "      <td>0</td>\n",
       "      <td>en</td>\n",
       "      <td>direct</td>\n",
       "      <td>direct</td>\n",
       "      <td>untracked</td>\n",
       "      <td>Web</td>\n",
       "      <td>Mac Desktop</td>\n",
       "      <td>Chrome</td>\n",
       "      <td>NDF</td>\n",
       "    </tr>\n",
       "    <tr>\n",
       "      <th>1</th>\n",
       "      <td>820tgsjxq7</td>\n",
       "      <td>2011-05-25</td>\n",
       "      <td>20090523174809</td>\n",
       "      <td>NaN</td>\n",
       "      <td>MALE</td>\n",
       "      <td>38.0</td>\n",
       "      <td>facebook</td>\n",
       "      <td>0</td>\n",
       "      <td>en</td>\n",
       "      <td>seo</td>\n",
       "      <td>google</td>\n",
       "      <td>untracked</td>\n",
       "      <td>Web</td>\n",
       "      <td>Mac Desktop</td>\n",
       "      <td>Chrome</td>\n",
       "      <td>NDF</td>\n",
       "    </tr>\n",
       "    <tr>\n",
       "      <th>2</th>\n",
       "      <td>4ft3gnwmtx</td>\n",
       "      <td>2010-09-28</td>\n",
       "      <td>20090609231247</td>\n",
       "      <td>2010-08-02</td>\n",
       "      <td>FEMALE</td>\n",
       "      <td>56.0</td>\n",
       "      <td>basic</td>\n",
       "      <td>3</td>\n",
       "      <td>en</td>\n",
       "      <td>direct</td>\n",
       "      <td>direct</td>\n",
       "      <td>untracked</td>\n",
       "      <td>Web</td>\n",
       "      <td>Windows Desktop</td>\n",
       "      <td>IE</td>\n",
       "      <td>US</td>\n",
       "    </tr>\n",
       "    <tr>\n",
       "      <th>3</th>\n",
       "      <td>bjjt8pjhuk</td>\n",
       "      <td>2011-12-05</td>\n",
       "      <td>20091031060129</td>\n",
       "      <td>2012-09-08</td>\n",
       "      <td>FEMALE</td>\n",
       "      <td>42.0</td>\n",
       "      <td>facebook</td>\n",
       "      <td>0</td>\n",
       "      <td>en</td>\n",
       "      <td>direct</td>\n",
       "      <td>direct</td>\n",
       "      <td>untracked</td>\n",
       "      <td>Web</td>\n",
       "      <td>Mac Desktop</td>\n",
       "      <td>Firefox</td>\n",
       "      <td>other</td>\n",
       "    </tr>\n",
       "    <tr>\n",
       "      <th>4</th>\n",
       "      <td>87mebub9p4</td>\n",
       "      <td>2010-09-14</td>\n",
       "      <td>20091208061105</td>\n",
       "      <td>2010-02-18</td>\n",
       "      <td>-unknown-</td>\n",
       "      <td>41.0</td>\n",
       "      <td>basic</td>\n",
       "      <td>0</td>\n",
       "      <td>en</td>\n",
       "      <td>direct</td>\n",
       "      <td>direct</td>\n",
       "      <td>untracked</td>\n",
       "      <td>Web</td>\n",
       "      <td>Mac Desktop</td>\n",
       "      <td>Chrome</td>\n",
       "      <td>US</td>\n",
       "    </tr>\n",
       "    <tr>\n",
       "      <th>5</th>\n",
       "      <td>osr2jwljor</td>\n",
       "      <td>2010-01-01</td>\n",
       "      <td>20100101215619</td>\n",
       "      <td>2010-01-02</td>\n",
       "      <td>-unknown-</td>\n",
       "      <td>NaN</td>\n",
       "      <td>basic</td>\n",
       "      <td>0</td>\n",
       "      <td>en</td>\n",
       "      <td>other</td>\n",
       "      <td>other</td>\n",
       "      <td>omg</td>\n",
       "      <td>Web</td>\n",
       "      <td>Mac Desktop</td>\n",
       "      <td>Chrome</td>\n",
       "      <td>US</td>\n",
       "    </tr>\n",
       "    <tr>\n",
       "      <th>6</th>\n",
       "      <td>lsw9q7uk0j</td>\n",
       "      <td>2010-01-02</td>\n",
       "      <td>20100102012558</td>\n",
       "      <td>2010-01-05</td>\n",
       "      <td>FEMALE</td>\n",
       "      <td>46.0</td>\n",
       "      <td>basic</td>\n",
       "      <td>0</td>\n",
       "      <td>en</td>\n",
       "      <td>other</td>\n",
       "      <td>craigslist</td>\n",
       "      <td>untracked</td>\n",
       "      <td>Web</td>\n",
       "      <td>Mac Desktop</td>\n",
       "      <td>Safari</td>\n",
       "      <td>US</td>\n",
       "    </tr>\n",
       "    <tr>\n",
       "      <th>7</th>\n",
       "      <td>0d01nltbrs</td>\n",
       "      <td>2010-01-03</td>\n",
       "      <td>20100103191905</td>\n",
       "      <td>2010-01-13</td>\n",
       "      <td>FEMALE</td>\n",
       "      <td>47.0</td>\n",
       "      <td>basic</td>\n",
       "      <td>0</td>\n",
       "      <td>en</td>\n",
       "      <td>direct</td>\n",
       "      <td>direct</td>\n",
       "      <td>omg</td>\n",
       "      <td>Web</td>\n",
       "      <td>Mac Desktop</td>\n",
       "      <td>Safari</td>\n",
       "      <td>US</td>\n",
       "    </tr>\n",
       "    <tr>\n",
       "      <th>8</th>\n",
       "      <td>a1vcnhxeij</td>\n",
       "      <td>2010-01-04</td>\n",
       "      <td>20100104004211</td>\n",
       "      <td>2010-07-29</td>\n",
       "      <td>FEMALE</td>\n",
       "      <td>50.0</td>\n",
       "      <td>basic</td>\n",
       "      <td>0</td>\n",
       "      <td>en</td>\n",
       "      <td>other</td>\n",
       "      <td>craigslist</td>\n",
       "      <td>untracked</td>\n",
       "      <td>Web</td>\n",
       "      <td>Mac Desktop</td>\n",
       "      <td>Safari</td>\n",
       "      <td>US</td>\n",
       "    </tr>\n",
       "    <tr>\n",
       "      <th>9</th>\n",
       "      <td>6uh8zyj2gn</td>\n",
       "      <td>2010-01-04</td>\n",
       "      <td>20100104023758</td>\n",
       "      <td>2010-01-04</td>\n",
       "      <td>-unknown-</td>\n",
       "      <td>46.0</td>\n",
       "      <td>basic</td>\n",
       "      <td>0</td>\n",
       "      <td>en</td>\n",
       "      <td>other</td>\n",
       "      <td>craigslist</td>\n",
       "      <td>omg</td>\n",
       "      <td>Web</td>\n",
       "      <td>Mac Desktop</td>\n",
       "      <td>Firefox</td>\n",
       "      <td>US</td>\n",
       "    </tr>\n",
       "    <tr>\n",
       "      <th>10</th>\n",
       "      <td>yuuqmid2rp</td>\n",
       "      <td>2010-01-04</td>\n",
       "      <td>20100104194251</td>\n",
       "      <td>2010-01-06</td>\n",
       "      <td>FEMALE</td>\n",
       "      <td>36.0</td>\n",
       "      <td>basic</td>\n",
       "      <td>0</td>\n",
       "      <td>en</td>\n",
       "      <td>other</td>\n",
       "      <td>craigslist</td>\n",
       "      <td>untracked</td>\n",
       "      <td>Web</td>\n",
       "      <td>Mac Desktop</td>\n",
       "      <td>Firefox</td>\n",
       "      <td>US</td>\n",
       "    </tr>\n",
       "    <tr>\n",
       "      <th>11</th>\n",
       "      <td>om1ss59ys8</td>\n",
       "      <td>2010-01-05</td>\n",
       "      <td>20100105051812</td>\n",
       "      <td>NaN</td>\n",
       "      <td>FEMALE</td>\n",
       "      <td>47.0</td>\n",
       "      <td>basic</td>\n",
       "      <td>0</td>\n",
       "      <td>en</td>\n",
       "      <td>other</td>\n",
       "      <td>craigslist</td>\n",
       "      <td>untracked</td>\n",
       "      <td>Web</td>\n",
       "      <td>iPhone</td>\n",
       "      <td>-unknown-</td>\n",
       "      <td>NDF</td>\n",
       "    </tr>\n",
       "    <tr>\n",
       "      <th>12</th>\n",
       "      <td>k6np330cm1</td>\n",
       "      <td>2010-01-05</td>\n",
       "      <td>20100105060859</td>\n",
       "      <td>2010-01-18</td>\n",
       "      <td>-unknown-</td>\n",
       "      <td>NaN</td>\n",
       "      <td>basic</td>\n",
       "      <td>0</td>\n",
       "      <td>en</td>\n",
       "      <td>direct</td>\n",
       "      <td>direct</td>\n",
       "      <td>NaN</td>\n",
       "      <td>Web</td>\n",
       "      <td>Other/Unknown</td>\n",
       "      <td>-unknown-</td>\n",
       "      <td>FR</td>\n",
       "    </tr>\n",
       "    <tr>\n",
       "      <th>13</th>\n",
       "      <td>dy3rgx56cu</td>\n",
       "      <td>2010-01-05</td>\n",
       "      <td>20100105083259</td>\n",
       "      <td>NaN</td>\n",
       "      <td>FEMALE</td>\n",
       "      <td>37.0</td>\n",
       "      <td>basic</td>\n",
       "      <td>0</td>\n",
       "      <td>en</td>\n",
       "      <td>other</td>\n",
       "      <td>craigslist</td>\n",
       "      <td>linked</td>\n",
       "      <td>Web</td>\n",
       "      <td>Mac Desktop</td>\n",
       "      <td>Firefox</td>\n",
       "      <td>NDF</td>\n",
       "    </tr>\n",
       "    <tr>\n",
       "      <th>14</th>\n",
       "      <td>ju3h98ch3w</td>\n",
       "      <td>2010-01-07</td>\n",
       "      <td>20100107055820</td>\n",
       "      <td>NaN</td>\n",
       "      <td>FEMALE</td>\n",
       "      <td>36.0</td>\n",
       "      <td>basic</td>\n",
       "      <td>0</td>\n",
       "      <td>en</td>\n",
       "      <td>other</td>\n",
       "      <td>craigslist</td>\n",
       "      <td>untracked</td>\n",
       "      <td>Web</td>\n",
       "      <td>iPhone</td>\n",
       "      <td>Mobile Safari</td>\n",
       "      <td>NDF</td>\n",
       "    </tr>\n",
       "    <tr>\n",
       "      <th>15</th>\n",
       "      <td>v4d5rl22px</td>\n",
       "      <td>2010-01-07</td>\n",
       "      <td>20100107204555</td>\n",
       "      <td>2010-01-08</td>\n",
       "      <td>FEMALE</td>\n",
       "      <td>33.0</td>\n",
       "      <td>basic</td>\n",
       "      <td>0</td>\n",
       "      <td>en</td>\n",
       "      <td>direct</td>\n",
       "      <td>direct</td>\n",
       "      <td>untracked</td>\n",
       "      <td>Web</td>\n",
       "      <td>Windows Desktop</td>\n",
       "      <td>Chrome</td>\n",
       "      <td>CA</td>\n",
       "    </tr>\n",
       "    <tr>\n",
       "      <th>16</th>\n",
       "      <td>2dwbwkx056</td>\n",
       "      <td>2010-01-07</td>\n",
       "      <td>20100107215125</td>\n",
       "      <td>NaN</td>\n",
       "      <td>-unknown-</td>\n",
       "      <td>NaN</td>\n",
       "      <td>basic</td>\n",
       "      <td>0</td>\n",
       "      <td>en</td>\n",
       "      <td>other</td>\n",
       "      <td>craigslist</td>\n",
       "      <td>NaN</td>\n",
       "      <td>Web</td>\n",
       "      <td>Other/Unknown</td>\n",
       "      <td>-unknown-</td>\n",
       "      <td>NDF</td>\n",
       "    </tr>\n",
       "    <tr>\n",
       "      <th>17</th>\n",
       "      <td>frhre329au</td>\n",
       "      <td>2010-01-07</td>\n",
       "      <td>20100107224625</td>\n",
       "      <td>2010-01-09</td>\n",
       "      <td>-unknown-</td>\n",
       "      <td>31.0</td>\n",
       "      <td>basic</td>\n",
       "      <td>0</td>\n",
       "      <td>en</td>\n",
       "      <td>other</td>\n",
       "      <td>craigslist</td>\n",
       "      <td>NaN</td>\n",
       "      <td>Web</td>\n",
       "      <td>Other/Unknown</td>\n",
       "      <td>-unknown-</td>\n",
       "      <td>US</td>\n",
       "    </tr>\n",
       "    <tr>\n",
       "      <th>18</th>\n",
       "      <td>cxlg85pg1r</td>\n",
       "      <td>2010-01-08</td>\n",
       "      <td>20100108015641</td>\n",
       "      <td>NaN</td>\n",
       "      <td>-unknown-</td>\n",
       "      <td>NaN</td>\n",
       "      <td>basic</td>\n",
       "      <td>0</td>\n",
       "      <td>en</td>\n",
       "      <td>seo</td>\n",
       "      <td>facebook</td>\n",
       "      <td>NaN</td>\n",
       "      <td>Web</td>\n",
       "      <td>Other/Unknown</td>\n",
       "      <td>-unknown-</td>\n",
       "      <td>NDF</td>\n",
       "    </tr>\n",
       "    <tr>\n",
       "      <th>19</th>\n",
       "      <td>gdka1q5ktd</td>\n",
       "      <td>2010-01-10</td>\n",
       "      <td>20100110010817</td>\n",
       "      <td>2010-01-10</td>\n",
       "      <td>FEMALE</td>\n",
       "      <td>29.0</td>\n",
       "      <td>basic</td>\n",
       "      <td>0</td>\n",
       "      <td>en</td>\n",
       "      <td>direct</td>\n",
       "      <td>direct</td>\n",
       "      <td>untracked</td>\n",
       "      <td>Web</td>\n",
       "      <td>Mac Desktop</td>\n",
       "      <td>Chrome</td>\n",
       "      <td>FR</td>\n",
       "    </tr>\n",
       "  </tbody>\n",
       "</table>\n",
       "</div>"
      ],
      "text/plain": [
       "            id date_account_created  timestamp_first_active  \\\n",
       "0   gxn3p5htnn           2010-06-28          20090319043255   \n",
       "1   820tgsjxq7           2011-05-25          20090523174809   \n",
       "2   4ft3gnwmtx           2010-09-28          20090609231247   \n",
       "3   bjjt8pjhuk           2011-12-05          20091031060129   \n",
       "4   87mebub9p4           2010-09-14          20091208061105   \n",
       "5   osr2jwljor           2010-01-01          20100101215619   \n",
       "6   lsw9q7uk0j           2010-01-02          20100102012558   \n",
       "7   0d01nltbrs           2010-01-03          20100103191905   \n",
       "8   a1vcnhxeij           2010-01-04          20100104004211   \n",
       "9   6uh8zyj2gn           2010-01-04          20100104023758   \n",
       "10  yuuqmid2rp           2010-01-04          20100104194251   \n",
       "11  om1ss59ys8           2010-01-05          20100105051812   \n",
       "12  k6np330cm1           2010-01-05          20100105060859   \n",
       "13  dy3rgx56cu           2010-01-05          20100105083259   \n",
       "14  ju3h98ch3w           2010-01-07          20100107055820   \n",
       "15  v4d5rl22px           2010-01-07          20100107204555   \n",
       "16  2dwbwkx056           2010-01-07          20100107215125   \n",
       "17  frhre329au           2010-01-07          20100107224625   \n",
       "18  cxlg85pg1r           2010-01-08          20100108015641   \n",
       "19  gdka1q5ktd           2010-01-10          20100110010817   \n",
       "\n",
       "   date_first_booking     gender   age signup_method  signup_flow language  \\\n",
       "0                 NaN  -unknown-   NaN      facebook            0       en   \n",
       "1                 NaN       MALE  38.0      facebook            0       en   \n",
       "2          2010-08-02     FEMALE  56.0         basic            3       en   \n",
       "3          2012-09-08     FEMALE  42.0      facebook            0       en   \n",
       "4          2010-02-18  -unknown-  41.0         basic            0       en   \n",
       "5          2010-01-02  -unknown-   NaN         basic            0       en   \n",
       "6          2010-01-05     FEMALE  46.0         basic            0       en   \n",
       "7          2010-01-13     FEMALE  47.0         basic            0       en   \n",
       "8          2010-07-29     FEMALE  50.0         basic            0       en   \n",
       "9          2010-01-04  -unknown-  46.0         basic            0       en   \n",
       "10         2010-01-06     FEMALE  36.0         basic            0       en   \n",
       "11                NaN     FEMALE  47.0         basic            0       en   \n",
       "12         2010-01-18  -unknown-   NaN         basic            0       en   \n",
       "13                NaN     FEMALE  37.0         basic            0       en   \n",
       "14                NaN     FEMALE  36.0         basic            0       en   \n",
       "15         2010-01-08     FEMALE  33.0         basic            0       en   \n",
       "16                NaN  -unknown-   NaN         basic            0       en   \n",
       "17         2010-01-09  -unknown-  31.0         basic            0       en   \n",
       "18                NaN  -unknown-   NaN         basic            0       en   \n",
       "19         2010-01-10     FEMALE  29.0         basic            0       en   \n",
       "\n",
       "   affiliate_channel affiliate_provider first_affiliate_tracked signup_app  \\\n",
       "0             direct             direct               untracked        Web   \n",
       "1                seo             google               untracked        Web   \n",
       "2             direct             direct               untracked        Web   \n",
       "3             direct             direct               untracked        Web   \n",
       "4             direct             direct               untracked        Web   \n",
       "5              other              other                     omg        Web   \n",
       "6              other         craigslist               untracked        Web   \n",
       "7             direct             direct                     omg        Web   \n",
       "8              other         craigslist               untracked        Web   \n",
       "9              other         craigslist                     omg        Web   \n",
       "10             other         craigslist               untracked        Web   \n",
       "11             other         craigslist               untracked        Web   \n",
       "12            direct             direct                     NaN        Web   \n",
       "13             other         craigslist                  linked        Web   \n",
       "14             other         craigslist               untracked        Web   \n",
       "15            direct             direct               untracked        Web   \n",
       "16             other         craigslist                     NaN        Web   \n",
       "17             other         craigslist                     NaN        Web   \n",
       "18               seo           facebook                     NaN        Web   \n",
       "19            direct             direct               untracked        Web   \n",
       "\n",
       "   first_device_type  first_browser country_destination  \n",
       "0        Mac Desktop         Chrome                 NDF  \n",
       "1        Mac Desktop         Chrome                 NDF  \n",
       "2    Windows Desktop             IE                  US  \n",
       "3        Mac Desktop        Firefox               other  \n",
       "4        Mac Desktop         Chrome                  US  \n",
       "5        Mac Desktop         Chrome                  US  \n",
       "6        Mac Desktop         Safari                  US  \n",
       "7        Mac Desktop         Safari                  US  \n",
       "8        Mac Desktop         Safari                  US  \n",
       "9        Mac Desktop        Firefox                  US  \n",
       "10       Mac Desktop        Firefox                  US  \n",
       "11            iPhone      -unknown-                 NDF  \n",
       "12     Other/Unknown      -unknown-                  FR  \n",
       "13       Mac Desktop        Firefox                 NDF  \n",
       "14            iPhone  Mobile Safari                 NDF  \n",
       "15   Windows Desktop         Chrome                  CA  \n",
       "16     Other/Unknown      -unknown-                 NDF  \n",
       "17     Other/Unknown      -unknown-                  US  \n",
       "18     Other/Unknown      -unknown-                 NDF  \n",
       "19       Mac Desktop         Chrome                  FR  "
      ]
     },
     "execution_count": 100,
     "metadata": {},
     "output_type": "execute_result"
    }
   ],
   "source": [
    "#data from csv files is imported to pandas data frames\n",
    "data= pd.read_csv(\"../Datos/data.csv\") #Path a los datos\n",
    "data.head(20)"
   ]
  },
  {
   "cell_type": "code",
   "execution_count": 101,
   "metadata": {},
   "outputs": [
    {
     "data": {
      "text/plain": [
       "id                              0\n",
       "date_account_created            0\n",
       "timestamp_first_active          0\n",
       "date_first_booking         124543\n",
       "gender                          0\n",
       "age                         87990\n",
       "signup_method                   0\n",
       "signup_flow                     0\n",
       "language                        0\n",
       "affiliate_channel               0\n",
       "affiliate_provider              0\n",
       "first_affiliate_tracked      6065\n",
       "signup_app                      0\n",
       "first_device_type               0\n",
       "first_browser                   0\n",
       "country_destination             0\n",
       "dtype: int64"
      ]
     },
     "execution_count": 101,
     "metadata": {},
     "output_type": "execute_result"
    }
   ],
   "source": [
    "data.isnull().sum()"
   ]
  },
  {
   "cell_type": "code",
   "execution_count": 102,
   "metadata": {},
   "outputs": [
    {
     "data": {
      "text/plain": [
       "2"
      ]
     },
     "execution_count": 102,
     "metadata": {},
     "output_type": "execute_result"
    }
   ],
   "source": [
    "data['date_first_booking'].isnull()[:10].sum()\n"
   ]
  },
  {
   "cell_type": "markdown",
   "metadata": {},
   "source": [
    "Podemos ver que el dataset no se encuentra completo, ya que __date_first_booking__, __age__ y __first_affiliate_tracked__ tienen valores NaN. Sin embargo, siempre debemos examinar con cierta cautela nuestros datos, por que por ejemplo en la categoría __gender__ tenemos valores _unknown_, que para el caso serían lo mismo que un NaN."
   ]
  },
  {
   "cell_type": "code",
   "execution_count": 103,
   "metadata": {},
   "outputs": [
    {
     "data": {
      "text/plain": [
       "95688"
      ]
     },
     "execution_count": 103,
     "metadata": {},
     "output_type": "execute_result"
    }
   ],
   "source": [
    "#replacing gender and age values which are not present to Nan\n",
    "# data.query('gender==\"-unknown-\"') -- 95688 unknown\n",
    "\n",
    "data.gender.replace('-unknown-',np.nan, inplace=True)\n",
    "data.gender.isnull().sum()\n",
    "\n"
   ]
  },
  {
   "cell_type": "code",
   "execution_count": 104,
   "metadata": {},
   "outputs": [
    {
     "data": {
      "text/plain": [
       "87990"
      ]
     },
     "execution_count": 104,
     "metadata": {},
     "output_type": "execute_result"
    }
   ],
   "source": [
    "data.age.replace('NaN', np.nan, inplace=True)\n",
    "data.age.isnull().sum()"
   ]
  },
  {
   "cell_type": "markdown",
   "metadata": {},
   "source": [
    "Tratamiento de outliers de __age__"
   ]
  },
  {
   "cell_type": "code",
   "execution_count": 105,
   "metadata": {},
   "outputs": [
    {
     "data": {
      "text/plain": [
       "count    125461.000000\n",
       "mean         49.668335\n",
       "std         155.666612\n",
       "min           1.000000\n",
       "25%          28.000000\n",
       "50%          34.000000\n",
       "75%          43.000000\n",
       "max        2014.000000\n",
       "Name: age, dtype: float64"
      ]
     },
     "execution_count": 105,
     "metadata": {},
     "output_type": "execute_result"
    }
   ],
   "source": [
    "data.age.describe()"
   ]
  },
  {
   "cell_type": "code",
   "execution_count": 106,
   "metadata": {},
   "outputs": [
    {
     "data": {
      "image/png": "[encoded data removed]",
      "text/plain": [
       "<Figure size 864x576 with 1 Axes>"
      ]
     },
     "metadata": {
      "needs_background": "light"
     },
     "output_type": "display_data"
    }
   ],
   "source": [
    "plt.figure(figsize=(12,8))\n",
    "sns.distplot(data['age'].dropna(),bins=10, label='Edad')\n",
    "plt.legend(bbox_to_anchor=(1, 1))\n",
    "sns.despine()"
   ]
  },
  {
   "cell_type": "code",
   "execution_count": 107,
   "metadata": {},
   "outputs": [
    {
     "data": {
      "text/plain": [
       "2345"
      ]
     },
     "execution_count": 107,
     "metadata": {},
     "output_type": "execute_result"
    }
   ],
   "source": [
    "data.query(' age > 100').age.count()"
   ]
  },
  {
   "cell_type": "markdown",
   "metadata": {},
   "source": [
    "Elimino los registros con __age__ mayores a 100"
   ]
  },
  {
   "cell_type": "code",
   "execution_count": 108,
   "metadata": {},
   "outputs": [],
   "source": [
    "data = data[data.age<100]\n"
   ]
  },
  {
   "cell_type": "code",
   "execution_count": 109,
   "metadata": {},
   "outputs": [
    {
     "data": {
      "image/png": "[encoded data removed]",
      "text/plain": [
       "<Figure size 864x576 with 1 Axes>"
      ]
     },
     "metadata": {
      "needs_background": "light"
     },
     "output_type": "display_data"
    }
   ],
   "source": [
    "plt.figure(figsize=(12,8))\n",
    "sns.distplot(data['age'].dropna(),bins=10, label='Edad')\n",
    "plt.legend(bbox_to_anchor=(1, 1))\n",
    "sns.despine()"
   ]
  },
  {
   "cell_type": "markdown",
   "metadata": {},
   "source": [
    "¿Tiene sentido buscar outliers en esta distribucion? ¿no son datos validos?"
   ]
  },
  {
   "cell_type": "code",
   "execution_count": 110,
   "metadata": {},
   "outputs": [
    {
     "data": {
      "text/plain": [
       "(28.0, 42.0)"
      ]
     },
     "execution_count": 110,
     "metadata": {},
     "output_type": "execute_result"
    }
   ],
   "source": [
    "#find first and third quartile\n",
    "q1, q3= np.percentile(data['age'].dropna(),[25,75])\n",
    "q1, q3"
   ]
  },
  {
   "cell_type": "code",
   "execution_count": 111,
   "metadata": {},
   "outputs": [
    {
     "data": {
      "text/plain": [
       "14.0"
      ]
     },
     "execution_count": 111,
     "metadata": {},
     "output_type": "execute_result"
    }
   ],
   "source": [
    "#Find the IQR, which is the difference between third and first quartile\n",
    "iqr = q3 - q1\n",
    "iqr"
   ]
  },
  {
   "cell_type": "code",
   "execution_count": 112,
   "metadata": {},
   "outputs": [
    {
     "data": {
      "text/plain": [
       "(7.0, 63.0)"
      ]
     },
     "execution_count": 112,
     "metadata": {},
     "output_type": "execute_result"
    }
   ],
   "source": [
    "#Find lower and upper bound\n",
    "lower_bound = q1 -(1.5 * iqr)\n",
    "upper_bound = q3 +(1.5 * iqr)\n",
    "lower_bound, upper_bound"
   ]
  },
  {
   "cell_type": "code",
   "execution_count": 113,
   "metadata": {},
   "outputs": [
    {
     "data": {
      "text/plain": [
       "57"
      ]
     },
     "execution_count": 113,
     "metadata": {},
     "output_type": "execute_result"
    }
   ],
   "source": [
    "data.query(' age < @lower_bound').age.count()"
   ]
  },
  {
   "cell_type": "code",
   "execution_count": 114,
   "metadata": {},
   "outputs": [
    {
     "data": {
      "text/plain": [
       "4231"
      ]
     },
     "execution_count": 114,
     "metadata": {},
     "output_type": "execute_result"
    }
   ],
   "source": [
    "data.query(' age > @upper_bound').age.count()"
   ]
  },
  {
   "cell_type": "code",
   "execution_count": 115,
   "metadata": {},
   "outputs": [
    {
     "data": {
      "image/png": "[encoded data removed]",
      "text/plain": [
       "<Figure size 936x432 with 1 Axes>"
      ]
     },
     "metadata": {
      "needs_background": "light"
     },
     "output_type": "display_data"
    }
   ],
   "source": [
    "data_age_dropna = sorted(data['age'].dropna())\n",
    "\n",
    "plt.figure(figsize=(13,6))\n",
    "plt.ylim(ymax = 100, ymin = 0)\n",
    "sns.boxplot(data=data_age_dropna)\n",
    "sns.despine()\n",
    "plt.show()"
   ]
  },
  {
   "cell_type": "markdown",
   "metadata": {},
   "source": [
    "Procedimiento para eliminar outliers usando n desviaciones std de la media"
   ]
  },
  {
   "cell_type": "code",
   "execution_count": 116,
   "metadata": {},
   "outputs": [
    {
     "name": "stdout",
     "output_type": "stream",
     "text": [
      "11.673193962187689\n",
      "Filas removidas 3223\n",
      "edad max considerada 65.0\n",
      "edad min considerada 15.0\n"
     ]
    }
   ],
   "source": [
    "age = data.age \n",
    "print(age.std())\n",
    "mask_age = np.abs(age - age.mean()) <= (2.5 * age.std())\n",
    "data_age_no_outliers = age[ mask_age ]\n",
    "data_age_no_outliers\n",
    "print(\"Filas removidas\", age.count() - data_age_no_outliers.count())\n",
    "print(\"edad max considerada\", data_age_no_outliers.max())\n",
    "print(\"edad min considerada\", data_age_no_outliers.min())\n"
   ]
  },
  {
   "cell_type": "markdown",
   "metadata": {},
   "source": [
    "Por ahora decido no eliminar mas outliers (solo elimine los que tienen __age__ > 100)."
   ]
  },
  {
   "cell_type": "markdown",
   "metadata": {},
   "source": [
    "\n",
    "Seguimos con la edad. Conviene armar rangos etarios. Creamos una nueva columna __age_range__ para almacenar el rango de edad.\n"
   ]
  },
  {
   "cell_type": "code",
   "execution_count": 117,
   "metadata": {},
   "outputs": [],
   "source": [
    "# otra forma, haciendo pd.cut y pasando directamente el intervalo\n",
    "\n",
    "data.insert(7,\"age_range\", pd.cut( data.age.dropna(),[15,25,35,45,55,75,100]) )"
   ]
  },
  {
   "cell_type": "code",
   "execution_count": 118,
   "metadata": {},
   "outputs": [
    {
     "data": {
      "text/html": [
       "<div>\n",
       "<style scoped>\n",
       "    .dataframe tbody tr th:only-of-type {\n",
       "        vertical-align: middle;\n",
       "    }\n",
       "\n",
       "    .dataframe tbody tr th {\n",
       "        vertical-align: top;\n",
       "    }\n",
       "\n",
       "    .dataframe thead th {\n",
       "        text-align: right;\n",
       "    }\n",
       "</style>\n",
       "<table border=\"1\" class=\"dataframe\">\n",
       "  <thead>\n",
       "    <tr style=\"text-align: right;\">\n",
       "      <th></th>\n",
       "      <th>age</th>\n",
       "      <th>age_range</th>\n",
       "    </tr>\n",
       "  </thead>\n",
       "  <tbody>\n",
       "    <tr>\n",
       "      <th>645</th>\n",
       "      <td>95.0</td>\n",
       "      <td>(75, 100]</td>\n",
       "    </tr>\n",
       "    <tr>\n",
       "      <th>777</th>\n",
       "      <td>94.0</td>\n",
       "      <td>(75, 100]</td>\n",
       "    </tr>\n",
       "    <tr>\n",
       "      <th>1048</th>\n",
       "      <td>79.0</td>\n",
       "      <td>(75, 100]</td>\n",
       "    </tr>\n",
       "    <tr>\n",
       "      <th>1619</th>\n",
       "      <td>98.0</td>\n",
       "      <td>(75, 100]</td>\n",
       "    </tr>\n",
       "    <tr>\n",
       "      <th>1822</th>\n",
       "      <td>76.0</td>\n",
       "      <td>(75, 100]</td>\n",
       "    </tr>\n",
       "    <tr>\n",
       "      <th>1879</th>\n",
       "      <td>87.0</td>\n",
       "      <td>(75, 100]</td>\n",
       "    </tr>\n",
       "    <tr>\n",
       "      <th>1889</th>\n",
       "      <td>92.0</td>\n",
       "      <td>(75, 100]</td>\n",
       "    </tr>\n",
       "    <tr>\n",
       "      <th>2497</th>\n",
       "      <td>84.0</td>\n",
       "      <td>(75, 100]</td>\n",
       "    </tr>\n",
       "    <tr>\n",
       "      <th>2675</th>\n",
       "      <td>78.0</td>\n",
       "      <td>(75, 100]</td>\n",
       "    </tr>\n",
       "    <tr>\n",
       "      <th>2825</th>\n",
       "      <td>99.0</td>\n",
       "      <td>(75, 100]</td>\n",
       "    </tr>\n",
       "    <tr>\n",
       "      <th>3472</th>\n",
       "      <td>82.0</td>\n",
       "      <td>(75, 100]</td>\n",
       "    </tr>\n",
       "    <tr>\n",
       "      <th>3501</th>\n",
       "      <td>77.0</td>\n",
       "      <td>(75, 100]</td>\n",
       "    </tr>\n",
       "    <tr>\n",
       "      <th>4046</th>\n",
       "      <td>89.0</td>\n",
       "      <td>(75, 100]</td>\n",
       "    </tr>\n",
       "    <tr>\n",
       "      <th>6610</th>\n",
       "      <td>78.0</td>\n",
       "      <td>(75, 100]</td>\n",
       "    </tr>\n",
       "    <tr>\n",
       "      <th>7203</th>\n",
       "      <td>86.0</td>\n",
       "      <td>(75, 100]</td>\n",
       "    </tr>\n",
       "    <tr>\n",
       "      <th>7258</th>\n",
       "      <td>79.0</td>\n",
       "      <td>(75, 100]</td>\n",
       "    </tr>\n",
       "    <tr>\n",
       "      <th>7303</th>\n",
       "      <td>86.0</td>\n",
       "      <td>(75, 100]</td>\n",
       "    </tr>\n",
       "    <tr>\n",
       "      <th>8377</th>\n",
       "      <td>97.0</td>\n",
       "      <td>(75, 100]</td>\n",
       "    </tr>\n",
       "    <tr>\n",
       "      <th>8536</th>\n",
       "      <td>78.0</td>\n",
       "      <td>(75, 100]</td>\n",
       "    </tr>\n",
       "    <tr>\n",
       "      <th>8550</th>\n",
       "      <td>95.0</td>\n",
       "      <td>(75, 100]</td>\n",
       "    </tr>\n",
       "    <tr>\n",
       "      <th>8682</th>\n",
       "      <td>82.0</td>\n",
       "      <td>(75, 100]</td>\n",
       "    </tr>\n",
       "    <tr>\n",
       "      <th>8715</th>\n",
       "      <td>81.0</td>\n",
       "      <td>(75, 100]</td>\n",
       "    </tr>\n",
       "    <tr>\n",
       "      <th>8721</th>\n",
       "      <td>81.0</td>\n",
       "      <td>(75, 100]</td>\n",
       "    </tr>\n",
       "    <tr>\n",
       "      <th>9006</th>\n",
       "      <td>77.0</td>\n",
       "      <td>(75, 100]</td>\n",
       "    </tr>\n",
       "    <tr>\n",
       "      <th>9145</th>\n",
       "      <td>95.0</td>\n",
       "      <td>(75, 100]</td>\n",
       "    </tr>\n",
       "    <tr>\n",
       "      <th>9307</th>\n",
       "      <td>90.0</td>\n",
       "      <td>(75, 100]</td>\n",
       "    </tr>\n",
       "    <tr>\n",
       "      <th>9459</th>\n",
       "      <td>88.0</td>\n",
       "      <td>(75, 100]</td>\n",
       "    </tr>\n",
       "    <tr>\n",
       "      <th>9608</th>\n",
       "      <td>87.0</td>\n",
       "      <td>(75, 100]</td>\n",
       "    </tr>\n",
       "    <tr>\n",
       "      <th>9621</th>\n",
       "      <td>80.0</td>\n",
       "      <td>(75, 100]</td>\n",
       "    </tr>\n",
       "    <tr>\n",
       "      <th>9654</th>\n",
       "      <td>95.0</td>\n",
       "      <td>(75, 100]</td>\n",
       "    </tr>\n",
       "    <tr>\n",
       "      <th>9783</th>\n",
       "      <td>81.0</td>\n",
       "      <td>(75, 100]</td>\n",
       "    </tr>\n",
       "    <tr>\n",
       "      <th>9803</th>\n",
       "      <td>82.0</td>\n",
       "      <td>(75, 100]</td>\n",
       "    </tr>\n",
       "    <tr>\n",
       "      <th>10134</th>\n",
       "      <td>82.0</td>\n",
       "      <td>(75, 100]</td>\n",
       "    </tr>\n",
       "    <tr>\n",
       "      <th>11139</th>\n",
       "      <td>91.0</td>\n",
       "      <td>(75, 100]</td>\n",
       "    </tr>\n",
       "    <tr>\n",
       "      <th>11187</th>\n",
       "      <td>77.0</td>\n",
       "      <td>(75, 100]</td>\n",
       "    </tr>\n",
       "  </tbody>\n",
       "</table>\n",
       "</div>"
      ],
      "text/plain": [
       "        age  age_range\n",
       "645    95.0  (75, 100]\n",
       "777    94.0  (75, 100]\n",
       "1048   79.0  (75, 100]\n",
       "1619   98.0  (75, 100]\n",
       "1822   76.0  (75, 100]\n",
       "1879   87.0  (75, 100]\n",
       "1889   92.0  (75, 100]\n",
       "2497   84.0  (75, 100]\n",
       "2675   78.0  (75, 100]\n",
       "2825   99.0  (75, 100]\n",
       "3472   82.0  (75, 100]\n",
       "3501   77.0  (75, 100]\n",
       "4046   89.0  (75, 100]\n",
       "6610   78.0  (75, 100]\n",
       "7203   86.0  (75, 100]\n",
       "7258   79.0  (75, 100]\n",
       "7303   86.0  (75, 100]\n",
       "8377   97.0  (75, 100]\n",
       "8536   78.0  (75, 100]\n",
       "8550   95.0  (75, 100]\n",
       "8682   82.0  (75, 100]\n",
       "8715   81.0  (75, 100]\n",
       "8721   81.0  (75, 100]\n",
       "9006   77.0  (75, 100]\n",
       "9145   95.0  (75, 100]\n",
       "9307   90.0  (75, 100]\n",
       "9459   88.0  (75, 100]\n",
       "9608   87.0  (75, 100]\n",
       "9621   80.0  (75, 100]\n",
       "9654   95.0  (75, 100]\n",
       "9783   81.0  (75, 100]\n",
       "9803   82.0  (75, 100]\n",
       "10134  82.0  (75, 100]\n",
       "11139  91.0  (75, 100]\n",
       "11187  77.0  (75, 100]"
      ]
     },
     "execution_count": 118,
     "metadata": {},
     "output_type": "execute_result"
    }
   ],
   "source": [
    "data[['age', 'age_range']].query('age>75')[:35]"
   ]
  },
  {
   "cell_type": "markdown",
   "metadata": {},
   "source": [
    "\n",
    "Convertimos __date_first_booking__ a datetime...\n"
   ]
  },
  {
   "cell_type": "code",
   "execution_count": 119,
   "metadata": {},
   "outputs": [],
   "source": [
    "data.date_first_booking = pd.to_datetime( data.date_first_booking )"
   ]
  },
  {
   "cell_type": "markdown",
   "metadata": {},
   "source": [
    "Convertimos __date_account_created__ a datetime..."
   ]
  },
  {
   "cell_type": "code",
   "execution_count": 120,
   "metadata": {},
   "outputs": [],
   "source": [
    "data.date_account_created = pd.to_datetime( data.date_account_created )"
   ]
  },
  {
   "cell_type": "markdown",
   "metadata": {},
   "source": [
    "Agregamos columna __month_of_booking__ porque la vamos a usar mas adelante"
   ]
  },
  {
   "cell_type": "code",
   "execution_count": 121,
   "metadata": {},
   "outputs": [],
   "source": [
    "data['month_of_booking'] = data.date_first_booking.dt.month"
   ]
  },
  {
   "cell_type": "markdown",
   "metadata": {},
   "source": [
    "## Laboratorio:"
   ]
  },
  {
   "cell_type": "markdown",
   "metadata": {},
   "source": [
    "Este laboratorio tiene como objetivo principal el de emular el trabajo de un __Data Scientist__ de Airbnb, al cual le han encomendado la tarea de analizar a fondo los datos y generar recomendaciones para el área de marketing. Nuestra tarea entonces será la de explotar los conocimientos adquiridos y las herramientas a nuestra disposición para transformar los _datos_ en _conocimiento_."
   ]
  },
  {
   "cell_type": "markdown",
   "metadata": {},
   "source": [
    "A continuación les presento una serie de preguntas obligatorias que se deben responder, sin embargo los invito a que cada uno se tome las libertades que crean convenientes para enriquecer aún más el análisis y por consiguiente los resultados."
   ]
  },
  {
   "cell_type": "markdown",
   "metadata": {},
   "source": [
    "**1.** ¿Cuáles son los destinos escogidos, segmentados por género y edad?\n",
    "\n",
    "**2.** ¿Cuántas cuentas han sido creadas por año?\n",
    "\n",
    "**3.** ¿Cuántos viajes se han realizados por año?\n",
    "\n",
    "**4.** Corregir el formato de __timestamp_first_active__ para poder leerlo como una fecha.\n",
    "\n",
    "**5.** ¿Qué porcentaje de los usuarios realizaron una búsqueda en Airbnb, previo a proceder con la creación de su cuenta? (Ayuda: ver __timestamp_first_active__).\n",
    "\n",
    "**6.** ¿Cuál es el tiempo promedio entre __timestamp_first_active__ y __date_account_created__?\n",
    "\n",
    "**7.** ¿Cuál es el tiempo promedio entre __date_account_created__ y __date_first_booking__?\n",
    "\n",
    "**8.** ¿Qué podemos extraer como conclusión de las preguntas 7 y 8?\n",
    "\n",
    "**9.** ¿Hay un __signup_method__ preferido?, ¿Y segmentado por sexo?, ¿Y por edad?\n",
    "\n",
    "**10.** ¿Hay un __signup_app__ preferido?, ¿Y por sexo?, ¿Y por edad?\n",
    "\n",
    "**11.** ¿Cuál es el dispositivo más usado, según el sexo y la edad de los usuarios?\n",
    "\n",
    "**12.** Si bien los usuarios son de EEUU, ¿Existen usuarios con otras preferencias idiomáticas?\n",
    "\n",
    "**13.** ¿Existe alguna correlación entre el lugar elegido y la edad de los usuarios?\n",
    "\n",
    "**14.** Graficar la cantidad de viajes por fecha. ¿Existe alguna tendencia?\n",
    "\n",
    "**15.** Graficar la actividad de los usuarios por día de la semana. ¿Cómo afecta esto a las campañas de marketing?"
   ]
  },
  {
   "cell_type": "markdown",
   "metadata": {},
   "source": [
    "Finalmente, con todas las respuestas obligatorias más las que ustedes mismos se hayan formulado, los invito a realizar un informe, en el formato que más les guste, el cual será presentado al \"área de marketing de Airbnb\". Como premisa principal, la comunicación tiene que ser entendible y concreta."
   ]
  },
  {
   "cell_type": "markdown",
   "metadata": {},
   "source": [
    "#### Resolución"
   ]
  },
  {
   "cell_type": "markdown",
   "metadata": {},
   "source": [
    "**1.** ¿Cuáles son los destinos escogidos, segmentados por género y edad?\n"
   ]
  },
  {
   "cell_type": "code",
   "execution_count": 122,
   "metadata": {},
   "outputs": [
    {
     "data": {
      "text/plain": [
       "0"
      ]
     },
     "execution_count": 122,
     "metadata": {},
     "output_type": "execute_result"
    }
   ],
   "source": [
    "# solo por las dudas, verifico que si no eligio destino, date_first_booking no tiene datos\n",
    "data.query('country_destination == \"NDF\"')['date_first_booking'].count()"
   ]
  },
  {
   "cell_type": "code",
   "execution_count": 123,
   "metadata": {},
   "outputs": [
    {
     "data": {
      "text/plain": [
       "gender  age_range  country_destination\n",
       "FEMALE  (15, 25]   AU                        12\n",
       "                   CA                        43\n",
       "                   DE                        60\n",
       "                   ES                       162\n",
       "                   FR                       274\n",
       "                   GB                       131\n",
       "                   IT                       161\n",
       "                   NDF                     4007\n",
       "                   NL                        48\n",
       "                   PT                        16\n",
       "                   US                      2701\n",
       "                   other                    365\n",
       "        (25, 35]   AU                       100\n",
       "                   CA                       206\n",
       "                   DE                       143\n",
       "                   ES                       384\n",
       "                   FR                       804\n",
       "                   GB                       332\n",
       "                   IT                       452\n",
       "                   NDF                    11435\n",
       "                   NL                       103\n",
       "                   PT                        30\n",
       "                   US                     10558\n",
       "                   other                   1495\n",
       "        (35, 45]   AU                        42\n",
       "                   CA                        94\n",
       "                   DE                        65\n",
       "                   ES                       137\n",
       "                   FR                       381\n",
       "                   GB                       155\n",
       "                                          ...  \n",
       "OTHER   (25, 35]   AU                         1\n",
       "                   CA                         1\n",
       "                   ES                         1\n",
       "                   FR                         3\n",
       "                   GB                         1\n",
       "                   IT                         3\n",
       "                   NDF                       20\n",
       "                   NL                         1\n",
       "                   PT                         1\n",
       "                   US                        53\n",
       "                   other                      9\n",
       "        (35, 45]   CA                         2\n",
       "                   DE                         1\n",
       "                   ES                         2\n",
       "                   FR                         7\n",
       "                   GB                         2\n",
       "                   NDF                       14\n",
       "                   NL                         1\n",
       "                   US                        25\n",
       "                   other                      6\n",
       "        (45, 55]   DE                         1\n",
       "                   FR                         2\n",
       "                   IT                         2\n",
       "                   NDF                       15\n",
       "                   US                        13\n",
       "                   other                      2\n",
       "        (55, 75]   NDF                        2\n",
       "                   US                         4\n",
       "                   other                      1\n",
       "        (75, 100]  NDF                        3\n",
       "Name: gender, Length: 176, dtype: int64"
      ]
     },
     "execution_count": 123,
     "metadata": {},
     "output_type": "execute_result"
    }
   ],
   "source": [
    "data.groupby(['gender','age_range','country_destination']).gender.count()"
   ]
  },
  {
   "cell_type": "code",
   "execution_count": 124,
   "metadata": {},
   "outputs": [
    {
     "data": {
      "text/plain": [
       "<matplotlib.axes._subplots.AxesSubplot at 0x19127cd4940>"
      ]
     },
     "execution_count": 124,
     "metadata": {},
     "output_type": "execute_result"
    },
    {
     "data": {
      "image/png": "[encoded data removed]",
      "text/plain": [
       "<Figure size 432x288 with 1 Axes>"
      ]
     },
     "metadata": {
      "needs_background": "light"
     },
     "output_type": "display_data"
    }
   ],
   "source": [
    "sns.countplot(data=data, x=\"country_destination\", hue=\"gender\")"
   ]
  },
  {
   "cell_type": "code",
   "execution_count": 125,
   "metadata": {},
   "outputs": [
    {
     "data": {
      "text/plain": [
       "<matplotlib.axes._subplots.AxesSubplot at 0x1911c063a90>"
      ]
     },
     "execution_count": 125,
     "metadata": {},
     "output_type": "execute_result"
    },
    {
     "data": {
      "image/png": "[encoded data removed]",
      "text/plain": [
       "<Figure size 432x288 with 1 Axes>"
      ]
     },
     "metadata": {
      "needs_background": "light"
     },
     "output_type": "display_data"
    }
   ],
   "source": [
    "sns.countplot(data=data, x=\"country_destination\", hue=\"age_range\")"
   ]
  },
  {
   "cell_type": "markdown",
   "metadata": {},
   "source": [
    "**2.** Cuantas cuentas han sido creadas por año"
   ]
  },
  {
   "cell_type": "code",
   "execution_count": 126,
   "metadata": {},
   "outputs": [
    {
     "data": {
      "text/plain": [
       "date_account_created\n",
       "2010     1679\n",
       "2011     7521\n",
       "2012    25241\n",
       "2013    47049\n",
       "2014    41600\n",
       "Name: date_account_created, dtype: int64"
      ]
     },
     "execution_count": 126,
     "metadata": {},
     "output_type": "execute_result"
    }
   ],
   "source": [
    "data.groupby(data.date_account_created.dt.year).date_account_created.count()"
   ]
  },
  {
   "cell_type": "markdown",
   "metadata": {},
   "source": [
    "**3.** ¿Cuántos viajes se han realizados por año?"
   ]
  },
  {
   "cell_type": "code",
   "execution_count": 127,
   "metadata": {},
   "outputs": [
    {
     "data": {
      "text/plain": [
       "date_first_booking\n",
       "2010.0      950\n",
       "2011.0     3768\n",
       "2012.0    12002\n",
       "2013.0    23529\n",
       "2014.0    25404\n",
       "2015.0     1549\n",
       "Name: date_first_booking, dtype: int64"
      ]
     },
     "execution_count": 127,
     "metadata": {},
     "output_type": "execute_result"
    }
   ],
   "source": [
    "data.groupby(data.date_first_booking.dt.year).date_first_booking.count()"
   ]
  },
  {
   "cell_type": "markdown",
   "metadata": {},
   "source": [
    "**4.** Corregir el formato de __timestamp_first_active__ para poder leerlo como una fecha."
   ]
  },
  {
   "cell_type": "code",
   "execution_count": 128,
   "metadata": {},
   "outputs": [
    {
     "data": {
      "text/plain": [
       "1    20090523174809\n",
       "2    20090609231247\n",
       "3    20091031060129\n",
       "4    20091208061105\n",
       "6    20100102012558\n",
       "Name: timestamp_first_active, dtype: int64"
      ]
     },
     "execution_count": 128,
     "metadata": {},
     "output_type": "execute_result"
    }
   ],
   "source": [
    "data.timestamp_first_active[:5]"
   ]
  },
  {
   "cell_type": "code",
   "execution_count": 129,
   "metadata": {},
   "outputs": [],
   "source": [
    "data.timestamp_first_active=pd.to_datetime((data.timestamp_first_active // 1000000), format='%Y%m%d')"
   ]
  },
  {
   "cell_type": "code",
   "execution_count": 130,
   "metadata": {},
   "outputs": [
    {
     "data": {
      "text/plain": [
       "1   2009-05-23\n",
       "2   2009-06-09\n",
       "3   2009-10-31\n",
       "4   2009-12-08\n",
       "6   2010-01-02\n",
       "Name: timestamp_first_active, dtype: datetime64[ns]"
      ]
     },
     "execution_count": 130,
     "metadata": {},
     "output_type": "execute_result"
    }
   ],
   "source": [
    "data.timestamp_first_active.head()"
   ]
  },
  {
   "cell_type": "markdown",
   "metadata": {},
   "source": [
    "**5.** ¿Qué porcentaje de los usuarios realizaron una búsqueda en Airbnb, previo a proceder con la creación de su cuenta? (Ayuda: ver __timestamp_first_active__)."
   ]
  },
  {
   "cell_type": "code",
   "execution_count": 131,
   "metadata": {},
   "outputs": [
    {
     "data": {
      "text/plain": [
       "1   2011-05-25\n",
       "2   2010-09-28\n",
       "3   2011-12-05\n",
       "4   2010-09-14\n",
       "6   2010-01-02\n",
       "Name: date_account_created, dtype: datetime64[ns]"
      ]
     },
     "execution_count": 131,
     "metadata": {},
     "output_type": "execute_result"
    }
   ],
   "source": [
    "data.date_account_created.head()"
   ]
  },
  {
   "cell_type": "code",
   "execution_count": 132,
   "metadata": {},
   "outputs": [
    {
     "data": {
      "text/plain": [
       "0"
      ]
     },
     "execution_count": 132,
     "metadata": {},
     "output_type": "execute_result"
    }
   ],
   "source": [
    "data.query ( 'timestamp_first_active > date_account_created ' ).timestamp_first_active.count()"
   ]
  },
  {
   "cell_type": "code",
   "execution_count": 133,
   "metadata": {},
   "outputs": [
    {
     "data": {
      "text/plain": [
       "122935"
      ]
     },
     "execution_count": 133,
     "metadata": {},
     "output_type": "execute_result"
    }
   ],
   "source": [
    "data.query ( 'timestamp_first_active == date_account_created ' ).timestamp_first_active.count()"
   ]
  },
  {
   "cell_type": "code",
   "execution_count": 134,
   "metadata": {},
   "outputs": [
    {
     "name": "stdout",
     "output_type": "stream",
     "text": [
      "155\n",
      "123090\n"
     ]
    }
   ],
   "source": [
    "# cantidad de usuarios que comenzaron a utilizar el servicio sin haber dado de alta la cuenta\n",
    "\n",
    "number_of_users_preactive = data.query ( 'timestamp_first_active < date_account_created ' ).timestamp_first_active.count()\n",
    "print(number_of_users_preactive)\n",
    "total_number_of_users = data.date_account_created.count()\n",
    "print (total_number_of_users)"
   ]
  },
  {
   "cell_type": "code",
   "execution_count": 135,
   "metadata": {},
   "outputs": [
    {
     "data": {
      "text/plain": [
       "0.12592412056219027"
      ]
     },
     "execution_count": 135,
     "metadata": {},
     "output_type": "execute_result"
    }
   ],
   "source": [
    "percentage_of_users_preactive = (number_of_users_preactive / total_number_of_users) * 100\n",
    "percentage_of_users_preactive"
   ]
  },
  {
   "cell_type": "markdown",
   "metadata": {},
   "source": [
    "**6.** ¿Cuál es el tiempo promedio entre __timestamp_first_active__ y __date_account_created__?"
   ]
  },
  {
   "cell_type": "code",
   "execution_count": 136,
   "metadata": {},
   "outputs": [
    {
     "data": {
      "text/plain": [
       "Timedelta('-1 days +15:05:40.960272')"
      ]
     },
     "execution_count": 136,
     "metadata": {},
     "output_type": "execute_result"
    }
   ],
   "source": [
    "ds = data.timestamp_first_active - data.date_account_created\n",
    "ds.mean()"
   ]
  },
  {
   "cell_type": "markdown",
   "metadata": {},
   "source": [
    "**7.** ¿Cuál es el tiempo promedio entre __date_account_created__ y __date_first_booking__?"
   ]
  },
  {
   "cell_type": "code",
   "execution_count": 137,
   "metadata": {},
   "outputs": [
    {
     "data": {
      "text/plain": [
       "1     True\n",
       "2    False\n",
       "3    False\n",
       "4    False\n",
       "6    False\n",
       "Name: date_first_booking, dtype: bool"
      ]
     },
     "execution_count": 137,
     "metadata": {},
     "output_type": "execute_result"
    }
   ],
   "source": [
    "# date_first_booking tiene NaT\n",
    "\n",
    "#data[['date_account_created','date_first_booking']][:5]\n",
    "data['date_first_booking'][:5].isnull()"
   ]
  },
  {
   "cell_type": "code",
   "execution_count": 138,
   "metadata": {},
   "outputs": [
    {
     "data": {
      "text/plain": [
       "1   2011-05-25\n",
       "2   2010-09-28\n",
       "3   2011-12-05\n",
       "4   2010-09-14\n",
       "6   2010-01-02\n",
       "Name: date_account_created, dtype: datetime64[ns]"
      ]
     },
     "execution_count": 138,
     "metadata": {},
     "output_type": "execute_result"
    }
   ],
   "source": [
    "data['date_account_created'][:5]"
   ]
  },
  {
   "cell_type": "code",
   "execution_count": 139,
   "metadata": {},
   "outputs": [],
   "source": [
    "data['time_booking_account'] = data.date_first_booking - data.date_account_created"
   ]
  },
  {
   "cell_type": "code",
   "execution_count": 140,
   "metadata": {},
   "outputs": [
    {
     "data": {
      "text/plain": [
       "count                      67202\n",
       "mean     50 days 17:21:49.568167\n",
       "std      92 days 14:05:13.626335\n",
       "min          -349 days +00:00:00\n",
       "25%              1 days 00:00:00\n",
       "50%              4 days 00:00:00\n",
       "75%             46 days 00:00:00\n",
       "max            365 days 00:00:00\n",
       "Name: time_booking_account, dtype: object"
      ]
     },
     "execution_count": 140,
     "metadata": {},
     "output_type": "execute_result"
    }
   ],
   "source": [
    "data['time_booking_account'].describe()"
   ]
  },
  {
   "cell_type": "code",
   "execution_count": 141,
   "metadata": {},
   "outputs": [
    {
     "data": {
      "text/plain": [
       "Timedelta('50 days 17:21:49.568167')"
      ]
     },
     "execution_count": 141,
     "metadata": {},
     "output_type": "execute_result"
    }
   ],
   "source": [
    "data['time_booking_account'].mean()"
   ]
  },
  {
   "cell_type": "markdown",
   "metadata": {},
   "source": [
    "**9.** ¿Hay un __signup_method__ preferido?, ¿Y segmentado por sexo?, ¿Y por edad?\n",
    "\n",
    "**10.** ¿Hay un __signup_app__ preferido?, ¿Y por sexo?, ¿Y por edad?\n"
   ]
  },
  {
   "cell_type": "code",
   "execution_count": 142,
   "metadata": {},
   "outputs": [
    {
     "data": {
      "text/plain": [
       "signup_method\n",
       "basic       65616\n",
       "facebook    57333\n",
       "google        141\n",
       "Name: signup_method, dtype: int64"
      ]
     },
     "execution_count": 142,
     "metadata": {},
     "output_type": "execute_result"
    }
   ],
   "source": [
    "data.groupby(['signup_method']).signup_method.count()"
   ]
  },
  {
   "cell_type": "code",
   "execution_count": 143,
   "metadata": {},
   "outputs": [
    {
     "data": {
      "text/plain": [
       "signup_app\n",
       "Android      2289\n",
       "Moweb        2324\n",
       "Web        108652\n",
       "iOS          9825\n",
       "Name: signup_app, dtype: int64"
      ]
     },
     "execution_count": 143,
     "metadata": {},
     "output_type": "execute_result"
    }
   ],
   "source": [
    "data.groupby(['signup_app']).signup_app.count()"
   ]
  },
  {
   "cell_type": "code",
   "execution_count": 144,
   "metadata": {},
   "outputs": [
    {
     "data": {
      "image/png": "[encoded data removed]",
      "text/plain": [
       "<Figure size 720x432 with 1 Axes>"
      ]
     },
     "metadata": {
      "needs_background": "light"
     },
     "output_type": "display_data"
    }
   ],
   "source": [
    "plt.figure(figsize=(10,6))\n",
    "sns.countplot(data=data, x='signup_app',hue='gender')\n",
    "sns.despine(left=True)           "
   ]
  },
  {
   "cell_type": "code",
   "execution_count": 145,
   "metadata": {},
   "outputs": [
    {
     "data": {
      "image/png": "[encoded data removed]",
      "text/plain": [
       "<Figure size 720x432 with 1 Axes>"
      ]
     },
     "metadata": {
      "needs_background": "light"
     },
     "output_type": "display_data"
    }
   ],
   "source": [
    "plt.figure(figsize=(10,6))\n",
    "sns.countplot(data=data, x='signup_app',hue='age_range')\n",
    "sns.despine(left=True)           "
   ]
  },
  {
   "cell_type": "code",
   "execution_count": 146,
   "metadata": {},
   "outputs": [
    {
     "data": {
      "image/png": "[encoded data removed]",
      "text/plain": [
       "<Figure size 720x432 with 1 Axes>"
      ]
     },
     "metadata": {
      "needs_background": "light"
     },
     "output_type": "display_data"
    }
   ],
   "source": [
    "plt.figure(figsize=(10,6))\n",
    "sns.countplot(data=data, x='signup_method', hue='gender')\n",
    "sns.despine(left=True)  "
   ]
  },
  {
   "cell_type": "markdown",
   "metadata": {},
   "source": [
    "**11.** ¿Cuál es el dispositivo más usado, según el sexo y la edad de los usuarios?"
   ]
  },
  {
   "cell_type": "code",
   "execution_count": 147,
   "metadata": {},
   "outputs": [
    {
     "data": {
      "image/png": "[encoded data removed]",
      "text/plain": [
       "<Figure size 720x432 with 1 Axes>"
      ]
     },
     "metadata": {
      "needs_background": "light"
     },
     "output_type": "display_data"
    }
   ],
   "source": [
    "plt.figure(figsize=(10,6))\n",
    "sns.countplot(data=data, x='first_device_type',hue='gender')\n",
    "plt.xticks(rotation=45)\n",
    "sns.despine(left=True)"
   ]
  },
  {
   "cell_type": "code",
   "execution_count": 148,
   "metadata": {},
   "outputs": [
    {
     "data": {
      "image/png": "[encoded data removed]",
      "text/plain": [
       "<Figure size 720x432 with 1 Axes>"
      ]
     },
     "metadata": {
      "needs_background": "light"
     },
     "output_type": "display_data"
    }
   ],
   "source": [
    "plt.figure(figsize=(10,6))\n",
    "sns.countplot(data=data, x='first_device_type',hue='age_range')\n",
    "plt.xticks(rotation=45)\n",
    "sns.despine(left=True)"
   ]
  },
  {
   "cell_type": "markdown",
   "metadata": {},
   "source": [
    "**12.** Si bien los usuarios son de EEUU, ¿Existen usuarios con otras preferencias idiomáticas?"
   ]
  },
  {
   "cell_type": "code",
   "execution_count": 149,
   "metadata": {},
   "outputs": [
    {
     "data": {
      "text/plain": [
       "array(['en', 'de', 'es', 'fr', 'zh', 'ko', 'it', 'ru', 'ja', 'pt', 'nl',\n",
       "       'sv', 'pl', 'hu', 'da', 'id', 'fi', 'no', 'tr', 'el', 'th', 'cs',\n",
       "       'hr', 'ca', 'is'], dtype=object)"
      ]
     },
     "execution_count": 149,
     "metadata": {},
     "output_type": "execute_result"
    }
   ],
   "source": [
    "data.language.unique()"
   ]
  },
  {
   "cell_type": "code",
   "execution_count": 150,
   "metadata": {},
   "outputs": [
    {
     "data": {
      "text/plain": [
       "count     123090\n",
       "unique        25\n",
       "top           en\n",
       "freq      118620\n",
       "Name: language, dtype: object"
      ]
     },
     "execution_count": 150,
     "metadata": {},
     "output_type": "execute_result"
    }
   ],
   "source": [
    "data.language.describe()"
   ]
  },
  {
   "cell_type": "code",
   "execution_count": 151,
   "metadata": {},
   "outputs": [
    {
     "data": {
      "text/plain": [
       "language\n",
       "ca         4\n",
       "cs        18\n",
       "da        33\n",
       "de       410\n",
       "el        22\n",
       "en    118620\n",
       "es       633\n",
       "fi        11\n",
       "fr       812\n",
       "hr         2\n",
       "hu        15\n",
       "id        17\n",
       "is         4\n",
       "it       361\n",
       "ja       128\n",
       "ko       397\n",
       "nl        53\n",
       "no        20\n",
       "pl        42\n",
       "pt       170\n",
       "ru       269\n",
       "sv        78\n",
       "th        18\n",
       "tr        45\n",
       "zh       908\n",
       "Name: language, dtype: int64"
      ]
     },
     "execution_count": 151,
     "metadata": {},
     "output_type": "execute_result"
    }
   ],
   "source": [
    "data.groupby('language').language.count()"
   ]
  },
  {
   "cell_type": "code",
   "execution_count": 152,
   "metadata": {},
   "outputs": [
    {
     "data": {
      "image/png": "[encoded data removed]",
      "text/plain": [
       "<Figure size 720x432 with 1 Axes>"
      ]
     },
     "metadata": {
      "needs_background": "light"
     },
     "output_type": "display_data"
    }
   ],
   "source": [
    "# veamos lenguage que no sean ingles...\n",
    "\n",
    "plt.figure(figsize=(10,6))\n",
    "sns.countplot(data=data.query('language!=\"en\"'), x='language')\n",
    "#plt.xticks(rotation=45)\n",
    "sns.despine(left=True)"
   ]
  },
  {
   "cell_type": "markdown",
   "metadata": {},
   "source": [
    "**13.** ¿Existe alguna correlación entre el lugar elegido y la edad de los usuarios?\n"
   ]
  },
  {
   "cell_type": "code",
   "execution_count": 153,
   "metadata": {},
   "outputs": [
    {
     "data": {
      "text/html": [
       "<div>\n",
       "<style scoped>\n",
       "    .dataframe tbody tr th:only-of-type {\n",
       "        vertical-align: middle;\n",
       "    }\n",
       "\n",
       "    .dataframe tbody tr th {\n",
       "        vertical-align: top;\n",
       "    }\n",
       "\n",
       "    .dataframe thead th {\n",
       "        text-align: right;\n",
       "    }\n",
       "</style>\n",
       "<table border=\"1\" class=\"dataframe\">\n",
       "  <thead>\n",
       "    <tr style=\"text-align: right;\">\n",
       "      <th></th>\n",
       "      <th>country_destination</th>\n",
       "      <th>age</th>\n",
       "    </tr>\n",
       "  </thead>\n",
       "  <tbody>\n",
       "    <tr>\n",
       "      <th>2</th>\n",
       "      <td>US</td>\n",
       "      <td>56.0</td>\n",
       "    </tr>\n",
       "    <tr>\n",
       "      <th>3</th>\n",
       "      <td>other</td>\n",
       "      <td>42.0</td>\n",
       "    </tr>\n",
       "    <tr>\n",
       "      <th>4</th>\n",
       "      <td>US</td>\n",
       "      <td>41.0</td>\n",
       "    </tr>\n",
       "    <tr>\n",
       "      <th>6</th>\n",
       "      <td>US</td>\n",
       "      <td>46.0</td>\n",
       "    </tr>\n",
       "    <tr>\n",
       "      <th>7</th>\n",
       "      <td>US</td>\n",
       "      <td>47.0</td>\n",
       "    </tr>\n",
       "    <tr>\n",
       "      <th>8</th>\n",
       "      <td>US</td>\n",
       "      <td>50.0</td>\n",
       "    </tr>\n",
       "    <tr>\n",
       "      <th>9</th>\n",
       "      <td>US</td>\n",
       "      <td>46.0</td>\n",
       "    </tr>\n",
       "    <tr>\n",
       "      <th>10</th>\n",
       "      <td>US</td>\n",
       "      <td>36.0</td>\n",
       "    </tr>\n",
       "    <tr>\n",
       "      <th>15</th>\n",
       "      <td>CA</td>\n",
       "      <td>33.0</td>\n",
       "    </tr>\n",
       "    <tr>\n",
       "      <th>17</th>\n",
       "      <td>US</td>\n",
       "      <td>31.0</td>\n",
       "    </tr>\n",
       "  </tbody>\n",
       "</table>\n",
       "</div>"
      ],
      "text/plain": [
       "   country_destination   age\n",
       "2                   US  56.0\n",
       "3                other  42.0\n",
       "4                   US  41.0\n",
       "6                   US  46.0\n",
       "7                   US  47.0\n",
       "8                   US  50.0\n",
       "9                   US  46.0\n",
       "10                  US  36.0\n",
       "15                  CA  33.0\n",
       "17                  US  31.0"
      ]
     },
     "execution_count": 153,
     "metadata": {},
     "output_type": "execute_result"
    }
   ],
   "source": [
    "data_country_selected = data.query('country_destination != \"NDF\"')\n",
    "data_country_selected[['country_destination','age']][:10]"
   ]
  },
  {
   "cell_type": "code",
   "execution_count": 154,
   "metadata": {},
   "outputs": [
    {
     "data": {
      "image/png": "[encoded data removed]",
      "text/plain": [
       "<Figure size 720x432 with 1 Axes>"
      ]
     },
     "metadata": {
      "needs_background": "light"
     },
     "output_type": "display_data"
    }
   ],
   "source": [
    "plt.figure(figsize=(10,6))\n",
    "sns.scatterplot(y=data_country_selected['country_destination'], x=data_country_selected['age'])\n",
    "sns.despine(left=True)"
   ]
  },
  {
   "cell_type": "markdown",
   "metadata": {},
   "source": [
    "**14.** Graficar la cantidad de viajes por fecha. ¿Existe alguna tendencia?"
   ]
  },
  {
   "cell_type": "code",
   "execution_count": 155,
   "metadata": {},
   "outputs": [
    {
     "data": {
      "text/html": [
       "<div>\n",
       "<style scoped>\n",
       "    .dataframe tbody tr th:only-of-type {\n",
       "        vertical-align: middle;\n",
       "    }\n",
       "\n",
       "    .dataframe tbody tr th {\n",
       "        vertical-align: top;\n",
       "    }\n",
       "\n",
       "    .dataframe thead th {\n",
       "        text-align: right;\n",
       "    }\n",
       "</style>\n",
       "<table border=\"1\" class=\"dataframe\">\n",
       "  <thead>\n",
       "    <tr style=\"text-align: right;\">\n",
       "      <th></th>\n",
       "      <th>age</th>\n",
       "      <th>signup_flow</th>\n",
       "      <th>month_of_booking</th>\n",
       "      <th>time_booking_account</th>\n",
       "    </tr>\n",
       "  </thead>\n",
       "  <tbody>\n",
       "    <tr>\n",
       "      <th>count</th>\n",
       "      <td>55888.000000</td>\n",
       "      <td>55888.000000</td>\n",
       "      <td>0.0</td>\n",
       "      <td>0</td>\n",
       "    </tr>\n",
       "    <tr>\n",
       "      <th>mean</th>\n",
       "      <td>37.009573</td>\n",
       "      <td>2.622083</td>\n",
       "      <td>NaN</td>\n",
       "      <td>NaT</td>\n",
       "    </tr>\n",
       "    <tr>\n",
       "      <th>std</th>\n",
       "      <td>12.220243</td>\n",
       "      <td>6.624973</td>\n",
       "      <td>NaN</td>\n",
       "      <td>NaT</td>\n",
       "    </tr>\n",
       "    <tr>\n",
       "      <th>min</th>\n",
       "      <td>1.000000</td>\n",
       "      <td>0.000000</td>\n",
       "      <td>NaN</td>\n",
       "      <td>NaN</td>\n",
       "    </tr>\n",
       "    <tr>\n",
       "      <th>25%</th>\n",
       "      <td>28.000000</td>\n",
       "      <td>0.000000</td>\n",
       "      <td>NaN</td>\n",
       "      <td>NaT</td>\n",
       "    </tr>\n",
       "    <tr>\n",
       "      <th>50%</th>\n",
       "      <td>34.000000</td>\n",
       "      <td>0.000000</td>\n",
       "      <td>NaN</td>\n",
       "      <td>NaT</td>\n",
       "    </tr>\n",
       "    <tr>\n",
       "      <th>75%</th>\n",
       "      <td>43.000000</td>\n",
       "      <td>0.000000</td>\n",
       "      <td>NaN</td>\n",
       "      <td>NaT</td>\n",
       "    </tr>\n",
       "    <tr>\n",
       "      <th>max</th>\n",
       "      <td>99.000000</td>\n",
       "      <td>25.000000</td>\n",
       "      <td>NaN</td>\n",
       "      <td>NaT</td>\n",
       "    </tr>\n",
       "  </tbody>\n",
       "</table>\n",
       "</div>"
      ],
      "text/plain": [
       "                age   signup_flow  month_of_booking time_booking_account\n",
       "count  55888.000000  55888.000000               0.0                    0\n",
       "mean      37.009573      2.622083               NaN                  NaT\n",
       "std       12.220243      6.624973               NaN                  NaT\n",
       "min        1.000000      0.000000               NaN                  NaN\n",
       "25%       28.000000      0.000000               NaN                  NaT\n",
       "50%       34.000000      0.000000               NaN                  NaT\n",
       "75%       43.000000      0.000000               NaN                  NaT\n",
       "max       99.000000     25.000000               NaN                  NaT"
      ]
     },
     "execution_count": 155,
     "metadata": {},
     "output_type": "execute_result"
    }
   ],
   "source": [
    "# cuantos usuarios no viajaron\n",
    "ds_not_traveled=data.query('date_first_booking.isnull()')\n",
    "ds_not_traveled.describe()"
   ]
  },
  {
   "cell_type": "code",
   "execution_count": 156,
   "metadata": {},
   "outputs": [
    {
     "data": {
      "text/html": [
       "<div>\n",
       "<style scoped>\n",
       "    .dataframe tbody tr th:only-of-type {\n",
       "        vertical-align: middle;\n",
       "    }\n",
       "\n",
       "    .dataframe tbody tr th {\n",
       "        vertical-align: top;\n",
       "    }\n",
       "\n",
       "    .dataframe thead th {\n",
       "        text-align: right;\n",
       "    }\n",
       "</style>\n",
       "<table border=\"1\" class=\"dataframe\">\n",
       "  <thead>\n",
       "    <tr style=\"text-align: right;\">\n",
       "      <th></th>\n",
       "      <th>age</th>\n",
       "      <th>signup_flow</th>\n",
       "      <th>month_of_booking</th>\n",
       "      <th>time_booking_account</th>\n",
       "    </tr>\n",
       "  </thead>\n",
       "  <tbody>\n",
       "    <tr>\n",
       "      <th>count</th>\n",
       "      <td>67202.000000</td>\n",
       "      <td>67202.000000</td>\n",
       "      <td>67202.000000</td>\n",
       "      <td>67202</td>\n",
       "    </tr>\n",
       "    <tr>\n",
       "      <th>mean</th>\n",
       "      <td>36.132883</td>\n",
       "      <td>2.442844</td>\n",
       "      <td>6.128940</td>\n",
       "      <td>50 days 17:21:49.568167</td>\n",
       "    </tr>\n",
       "    <tr>\n",
       "      <th>std</th>\n",
       "      <td>11.182408</td>\n",
       "      <td>6.527613</td>\n",
       "      <td>3.191291</td>\n",
       "      <td>92 days 14:05:13.626335</td>\n",
       "    </tr>\n",
       "    <tr>\n",
       "      <th>min</th>\n",
       "      <td>2.000000</td>\n",
       "      <td>0.000000</td>\n",
       "      <td>1.000000</td>\n",
       "      <td>-349 days +00:00:00</td>\n",
       "    </tr>\n",
       "    <tr>\n",
       "      <th>25%</th>\n",
       "      <td>28.000000</td>\n",
       "      <td>0.000000</td>\n",
       "      <td>4.000000</td>\n",
       "      <td>1 days 00:00:00</td>\n",
       "    </tr>\n",
       "    <tr>\n",
       "      <th>50%</th>\n",
       "      <td>33.000000</td>\n",
       "      <td>0.000000</td>\n",
       "      <td>6.000000</td>\n",
       "      <td>4 days 00:00:00</td>\n",
       "    </tr>\n",
       "    <tr>\n",
       "      <th>75%</th>\n",
       "      <td>41.000000</td>\n",
       "      <td>0.000000</td>\n",
       "      <td>9.000000</td>\n",
       "      <td>46 days 00:00:00</td>\n",
       "    </tr>\n",
       "    <tr>\n",
       "      <th>max</th>\n",
       "      <td>99.000000</td>\n",
       "      <td>25.000000</td>\n",
       "      <td>12.000000</td>\n",
       "      <td>365 days 00:00:00</td>\n",
       "    </tr>\n",
       "  </tbody>\n",
       "</table>\n",
       "</div>"
      ],
      "text/plain": [
       "                age   signup_flow  month_of_booking     time_booking_account\n",
       "count  67202.000000  67202.000000      67202.000000                    67202\n",
       "mean      36.132883      2.442844          6.128940  50 days 17:21:49.568167\n",
       "std       11.182408      6.527613          3.191291  92 days 14:05:13.626335\n",
       "min        2.000000      0.000000          1.000000      -349 days +00:00:00\n",
       "25%       28.000000      0.000000          4.000000          1 days 00:00:00\n",
       "50%       33.000000      0.000000          6.000000          4 days 00:00:00\n",
       "75%       41.000000      0.000000          9.000000         46 days 00:00:00\n",
       "max       99.000000     25.000000         12.000000        365 days 00:00:00"
      ]
     },
     "execution_count": 156,
     "metadata": {},
     "output_type": "execute_result"
    }
   ],
   "source": [
    "# cuantos usuarios viajaron\n",
    "ds_traveled=data.query('date_first_booking.isnull() == False')\n",
    "ds_traveled.describe()"
   ]
  },
  {
   "cell_type": "code",
   "execution_count": 157,
   "metadata": {},
   "outputs": [
    {
     "data": {
      "image/png": "[encoded data removed]",
      "text/plain": [
       "<Figure size 720x432 with 1 Axes>"
      ]
     },
     "metadata": {
      "needs_background": "light"
     },
     "output_type": "display_data"
    }
   ],
   "source": [
    "\n",
    "plt.figure(figsize=(10,6))\n",
    "sns.countplot(data=ds_traveled, x='month_of_booking')\n",
    "sns.despine(left=True)"
   ]
  },
  {
   "cell_type": "markdown",
   "metadata": {},
   "source": [
    "¿Es distinto si el destino elegido NO es  US?"
   ]
  },
  {
   "cell_type": "code",
   "execution_count": 158,
   "metadata": {},
   "outputs": [
    {
     "data": {
      "image/png": "[encoded data removed]",
      "text/plain": [
       "<Figure size 720x432 with 1 Axes>"
      ]
     },
     "metadata": {
      "needs_background": "light"
     },
     "output_type": "display_data"
    }
   ],
   "source": [
    "plt.figure(figsize=(10,6))\n",
    "sns.countplot(data=ds_traveled.query('country_destination != \"US\"'), x='month_of_booking')\n",
    "sns.despine(left=True)"
   ]
  },
  {
   "cell_type": "code",
   "execution_count": 159,
   "metadata": {},
   "outputs": [
    {
     "data": {
      "image/png": "[encoded data removed]",
      "text/plain": [
       "<Figure size 720x432 with 1 Axes>"
      ]
     },
     "metadata": {
      "needs_background": "light"
     },
     "output_type": "display_data"
    }
   ],
   "source": [
    "plt.figure(figsize=(10,6))\n",
    "sns.countplot(data=data.query('country_destination == \"AU\"'), x='month_of_booking')\n",
    "sns.despine(left=True)"
   ]
  },
  {
   "cell_type": "code",
   "execution_count": 160,
   "metadata": {},
   "outputs": [
    {
     "data": {
      "image/png": "[encoded data removed]",
      "text/plain": [
       "<Figure size 720x432 with 1 Axes>"
      ]
     },
     "metadata": {
      "needs_background": "light"
     },
     "output_type": "display_data"
    }
   ],
   "source": [
    "plt.figure(figsize=(10,6))\n",
    "sns.countplot(data=data.query('country_destination == \"other\"'), x='month_of_booking')\n",
    "sns.despine(left=True)"
   ]
  },
  {
   "cell_type": "code",
   "execution_count": 161,
   "metadata": {},
   "outputs": [
    {
     "data": {
      "text/plain": [
       "array(['NDF', 'US', 'other', 'CA', 'FR', 'IT', 'ES', 'GB', 'NL', 'DE',\n",
       "       'AU', 'PT'], dtype=object)"
      ]
     },
     "execution_count": 161,
     "metadata": {},
     "output_type": "execute_result"
    }
   ],
   "source": [
    "data.country_destination.unique()"
   ]
  },
  {
   "cell_type": "markdown",
   "metadata": {},
   "source": [
    "**15.** Graficar la actividad de los usuarios por día de la semana. ¿Cómo afecta esto a las campañas de marketing?"
   ]
  },
  {
   "cell_type": "code",
   "execution_count": 162,
   "metadata": {},
   "outputs": [
    {
     "data": {
      "image/png": "[encoded data removed]",
      "text/plain": [
       "<Figure size 720x432 with 1 Axes>"
      ]
     },
     "metadata": {
      "needs_background": "light"
     },
     "output_type": "display_data"
    }
   ],
   "source": [
    "data['dayofweek']=data.timestamp_first_active.dt.dayofweek\n",
    "# monday=0, sunday=6\n",
    "\n",
    "plt.figure(figsize=(10,6))\n",
    "sns.countplot(data=data, x='dayofweek')\n",
    "sns.despine(left=True)"
   ]
  },
  {
   "cell_type": "markdown",
   "metadata": {},
   "source": [
    "**16** ¿ Es mas efectivo (en terminos de conversión) un canal que otro?"
   ]
  },
  {
   "cell_type": "code",
   "execution_count": 163,
   "metadata": {},
   "outputs": [
    {
     "data": {
      "text/html": [
       "<div>\n",
       "<style scoped>\n",
       "    .dataframe tbody tr th:only-of-type {\n",
       "        vertical-align: middle;\n",
       "    }\n",
       "\n",
       "    .dataframe tbody tr th {\n",
       "        vertical-align: top;\n",
       "    }\n",
       "\n",
       "    .dataframe thead th {\n",
       "        text-align: right;\n",
       "    }\n",
       "</style>\n",
       "<table border=\"1\" class=\"dataframe\">\n",
       "  <thead>\n",
       "    <tr style=\"text-align: right;\">\n",
       "      <th></th>\n",
       "      <th>id</th>\n",
       "      <th>date_account_created</th>\n",
       "      <th>timestamp_first_active</th>\n",
       "      <th>date_first_booking</th>\n",
       "      <th>gender</th>\n",
       "      <th>age</th>\n",
       "      <th>signup_method</th>\n",
       "      <th>age_range</th>\n",
       "      <th>signup_flow</th>\n",
       "      <th>language</th>\n",
       "      <th>affiliate_channel</th>\n",
       "      <th>affiliate_provider</th>\n",
       "      <th>first_affiliate_tracked</th>\n",
       "      <th>signup_app</th>\n",
       "      <th>first_device_type</th>\n",
       "      <th>first_browser</th>\n",
       "      <th>country_destination</th>\n",
       "      <th>month_of_booking</th>\n",
       "      <th>time_booking_account</th>\n",
       "      <th>dayofweek</th>\n",
       "    </tr>\n",
       "  </thead>\n",
       "  <tbody>\n",
       "    <tr>\n",
       "      <th>2</th>\n",
       "      <td>4ft3gnwmtx</td>\n",
       "      <td>2010-09-28</td>\n",
       "      <td>2009-06-09</td>\n",
       "      <td>2010-08-02</td>\n",
       "      <td>FEMALE</td>\n",
       "      <td>56.0</td>\n",
       "      <td>basic</td>\n",
       "      <td>(55, 75]</td>\n",
       "      <td>3</td>\n",
       "      <td>en</td>\n",
       "      <td>direct</td>\n",
       "      <td>direct</td>\n",
       "      <td>untracked</td>\n",
       "      <td>Web</td>\n",
       "      <td>Windows Desktop</td>\n",
       "      <td>IE</td>\n",
       "      <td>US</td>\n",
       "      <td>8.0</td>\n",
       "      <td>-57 days</td>\n",
       "      <td>1</td>\n",
       "    </tr>\n",
       "    <tr>\n",
       "      <th>3</th>\n",
       "      <td>bjjt8pjhuk</td>\n",
       "      <td>2011-12-05</td>\n",
       "      <td>2009-10-31</td>\n",
       "      <td>2012-09-08</td>\n",
       "      <td>FEMALE</td>\n",
       "      <td>42.0</td>\n",
       "      <td>facebook</td>\n",
       "      <td>(35, 45]</td>\n",
       "      <td>0</td>\n",
       "      <td>en</td>\n",
       "      <td>direct</td>\n",
       "      <td>direct</td>\n",
       "      <td>untracked</td>\n",
       "      <td>Web</td>\n",
       "      <td>Mac Desktop</td>\n",
       "      <td>Firefox</td>\n",
       "      <td>other</td>\n",
       "      <td>9.0</td>\n",
       "      <td>278 days</td>\n",
       "      <td>5</td>\n",
       "    </tr>\n",
       "    <tr>\n",
       "      <th>4</th>\n",
       "      <td>87mebub9p4</td>\n",
       "      <td>2010-09-14</td>\n",
       "      <td>2009-12-08</td>\n",
       "      <td>2010-02-18</td>\n",
       "      <td>NaN</td>\n",
       "      <td>41.0</td>\n",
       "      <td>basic</td>\n",
       "      <td>(35, 45]</td>\n",
       "      <td>0</td>\n",
       "      <td>en</td>\n",
       "      <td>direct</td>\n",
       "      <td>direct</td>\n",
       "      <td>untracked</td>\n",
       "      <td>Web</td>\n",
       "      <td>Mac Desktop</td>\n",
       "      <td>Chrome</td>\n",
       "      <td>US</td>\n",
       "      <td>2.0</td>\n",
       "      <td>-208 days</td>\n",
       "      <td>1</td>\n",
       "    </tr>\n",
       "    <tr>\n",
       "      <th>7</th>\n",
       "      <td>0d01nltbrs</td>\n",
       "      <td>2010-01-03</td>\n",
       "      <td>2010-01-03</td>\n",
       "      <td>2010-01-13</td>\n",
       "      <td>FEMALE</td>\n",
       "      <td>47.0</td>\n",
       "      <td>basic</td>\n",
       "      <td>(45, 55]</td>\n",
       "      <td>0</td>\n",
       "      <td>en</td>\n",
       "      <td>direct</td>\n",
       "      <td>direct</td>\n",
       "      <td>omg</td>\n",
       "      <td>Web</td>\n",
       "      <td>Mac Desktop</td>\n",
       "      <td>Safari</td>\n",
       "      <td>US</td>\n",
       "      <td>1.0</td>\n",
       "      <td>10 days</td>\n",
       "      <td>6</td>\n",
       "    </tr>\n",
       "    <tr>\n",
       "      <th>15</th>\n",
       "      <td>v4d5rl22px</td>\n",
       "      <td>2010-01-07</td>\n",
       "      <td>2010-01-07</td>\n",
       "      <td>2010-01-08</td>\n",
       "      <td>FEMALE</td>\n",
       "      <td>33.0</td>\n",
       "      <td>basic</td>\n",
       "      <td>(25, 35]</td>\n",
       "      <td>0</td>\n",
       "      <td>en</td>\n",
       "      <td>direct</td>\n",
       "      <td>direct</td>\n",
       "      <td>untracked</td>\n",
       "      <td>Web</td>\n",
       "      <td>Windows Desktop</td>\n",
       "      <td>Chrome</td>\n",
       "      <td>CA</td>\n",
       "      <td>1.0</td>\n",
       "      <td>1 days</td>\n",
       "      <td>3</td>\n",
       "    </tr>\n",
       "  </tbody>\n",
       "</table>\n",
       "</div>"
      ],
      "text/plain": [
       "            id date_account_created timestamp_first_active date_first_booking  \\\n",
       "2   4ft3gnwmtx           2010-09-28             2009-06-09         2010-08-02   \n",
       "3   bjjt8pjhuk           2011-12-05             2009-10-31         2012-09-08   \n",
       "4   87mebub9p4           2010-09-14             2009-12-08         2010-02-18   \n",
       "7   0d01nltbrs           2010-01-03             2010-01-03         2010-01-13   \n",
       "15  v4d5rl22px           2010-01-07             2010-01-07         2010-01-08   \n",
       "\n",
       "    gender   age signup_method age_range  signup_flow language  \\\n",
       "2   FEMALE  56.0         basic  (55, 75]            3       en   \n",
       "3   FEMALE  42.0      facebook  (35, 45]            0       en   \n",
       "4      NaN  41.0         basic  (35, 45]            0       en   \n",
       "7   FEMALE  47.0         basic  (45, 55]            0       en   \n",
       "15  FEMALE  33.0         basic  (25, 35]            0       en   \n",
       "\n",
       "   affiliate_channel affiliate_provider first_affiliate_tracked signup_app  \\\n",
       "2             direct             direct               untracked        Web   \n",
       "3             direct             direct               untracked        Web   \n",
       "4             direct             direct               untracked        Web   \n",
       "7             direct             direct                     omg        Web   \n",
       "15            direct             direct               untracked        Web   \n",
       "\n",
       "   first_device_type first_browser country_destination  month_of_booking  \\\n",
       "2    Windows Desktop            IE                  US               8.0   \n",
       "3        Mac Desktop       Firefox               other               9.0   \n",
       "4        Mac Desktop        Chrome                  US               2.0   \n",
       "7        Mac Desktop        Safari                  US               1.0   \n",
       "15   Windows Desktop        Chrome                  CA               1.0   \n",
       "\n",
       "   time_booking_account  dayofweek  \n",
       "2              -57 days          1  \n",
       "3              278 days          5  \n",
       "4             -208 days          1  \n",
       "7               10 days          6  \n",
       "15               1 days          3  "
      ]
     },
     "execution_count": 163,
     "metadata": {},
     "output_type": "execute_result"
    }
   ],
   "source": [
    "data.query('affiliate_channel == \"direct\"')[:5]"
   ]
  },
  {
   "cell_type": "code",
   "execution_count": 164,
   "metadata": {},
   "outputs": [
    {
     "data": {
      "text/plain": [
       "array(['seo', 'direct', 'other', 'sem-non-brand', 'content', 'sem-brand',\n",
       "       'remarketing', 'api'], dtype=object)"
      ]
     },
     "execution_count": 164,
     "metadata": {},
     "output_type": "execute_result"
    }
   ],
   "source": [
    "data['affiliate_channel'].unique()"
   ]
  },
  {
   "cell_type": "code",
   "execution_count": 165,
   "metadata": {},
   "outputs": [
    {
     "data": {
      "text/plain": [
       "array(['google', 'direct', 'craigslist', 'other', 'facebook', 'vast',\n",
       "       'bing', 'meetup', 'facebook-open-graph', 'email-marketing',\n",
       "       'yahoo', 'padmapper', 'wayn', 'gsp', 'baidu', 'naver', 'yandex'],\n",
       "      dtype=object)"
      ]
     },
     "execution_count": 165,
     "metadata": {},
     "output_type": "execute_result"
    }
   ],
   "source": [
    "data['affiliate_provider'].unique()"
   ]
  },
  {
   "cell_type": "code",
   "execution_count": 166,
   "metadata": {},
   "outputs": [
    {
     "data": {
      "text/plain": [
       "array(['untracked', 'omg', 'linked', nan, 'tracked-other', 'product',\n",
       "       'marketing', 'local ops'], dtype=object)"
      ]
     },
     "execution_count": 166,
     "metadata": {},
     "output_type": "execute_result"
    }
   ],
   "source": [
    "data['first_affiliate_tracked'].unique()"
   ]
  },
  {
   "cell_type": "code",
   "execution_count": 167,
   "metadata": {},
   "outputs": [
    {
     "data": {
      "text/plain": [
       "count    67202.000000\n",
       "mean        51.147763\n",
       "std         93.778974\n",
       "min          0.000000\n",
       "25%          1.000000\n",
       "50%          4.000000\n",
       "75%         46.000000\n",
       "max       1369.000000\n",
       "Name: conversion_time, dtype: float64"
      ]
     },
     "execution_count": 167,
     "metadata": {},
     "output_type": "execute_result"
    }
   ],
   "source": [
    "data['conversion_time'] = data.date_first_booking - data.timestamp_first_active\n",
    "data['conversion_time'] = data['conversion_time'].dt.days\n",
    "data['conversion_time'].describe()"
   ]
  },
  {
   "cell_type": "code",
   "execution_count": 168,
   "metadata": {},
   "outputs": [
    {
     "data": {
      "text/html": [
       "<div>\n",
       "<style scoped>\n",
       "    .dataframe tbody tr th:only-of-type {\n",
       "        vertical-align: middle;\n",
       "    }\n",
       "\n",
       "    .dataframe tbody tr th {\n",
       "        vertical-align: top;\n",
       "    }\n",
       "\n",
       "    .dataframe thead th {\n",
       "        text-align: right;\n",
       "    }\n",
       "</style>\n",
       "<table border=\"1\" class=\"dataframe\">\n",
       "  <thead>\n",
       "    <tr style=\"text-align: right;\">\n",
       "      <th></th>\n",
       "      <th>id</th>\n",
       "      <th>date_account_created</th>\n",
       "      <th>timestamp_first_active</th>\n",
       "      <th>date_first_booking</th>\n",
       "      <th>gender</th>\n",
       "      <th>age</th>\n",
       "      <th>signup_method</th>\n",
       "      <th>age_range</th>\n",
       "      <th>signup_flow</th>\n",
       "      <th>language</th>\n",
       "      <th>...</th>\n",
       "      <th>affiliate_provider</th>\n",
       "      <th>first_affiliate_tracked</th>\n",
       "      <th>signup_app</th>\n",
       "      <th>first_device_type</th>\n",
       "      <th>first_browser</th>\n",
       "      <th>country_destination</th>\n",
       "      <th>month_of_booking</th>\n",
       "      <th>time_booking_account</th>\n",
       "      <th>dayofweek</th>\n",
       "      <th>conversion_time</th>\n",
       "    </tr>\n",
       "  </thead>\n",
       "  <tbody>\n",
       "  </tbody>\n",
       "</table>\n",
       "<p>0 rows × 21 columns</p>\n",
       "</div>"
      ],
      "text/plain": [
       "Empty DataFrame\n",
       "Columns: [id, date_account_created, timestamp_first_active, date_first_booking, gender, age, signup_method, age_range, signup_flow, language, affiliate_channel, affiliate_provider, first_affiliate_tracked, signup_app, first_device_type, first_browser, country_destination, month_of_booking, time_booking_account, dayofweek, conversion_time]\n",
       "Index: []\n",
       "\n",
       "[0 rows x 21 columns]"
      ]
     },
     "execution_count": 168,
     "metadata": {},
     "output_type": "execute_result"
    }
   ],
   "source": [
    "# Se excluyen los registros que tienen date_first_booking NaT ???\n",
    "# Si, se excluyen... fijarse que coincide este count (67202) con el de ds_traveled\n",
    "data[data.conversion_time<0][:5]"
   ]
  },
  {
   "cell_type": "markdown",
   "metadata": {},
   "source": [
    "Primero, medido en __cantidad de conversiones__"
   ]
  },
  {
   "cell_type": "code",
   "execution_count": 169,
   "metadata": {},
   "outputs": [
    {
     "data": {
      "text/plain": [
       "affiliate_channel\n",
       "api               2293\n",
       "content            405\n",
       "direct           45096\n",
       "other             2705\n",
       "remarketing        282\n",
       "sem-brand         8369\n",
       "sem-non-brand     5021\n",
       "seo               3031\n",
       "Name: conversion_time, dtype: int64"
      ]
     },
     "execution_count": 169,
     "metadata": {},
     "output_type": "execute_result"
    }
   ],
   "source": [
    "data['conversion_time'].groupby(data['affiliate_channel']).count()"
   ]
  },
  {
   "cell_type": "markdown",
   "metadata": {},
   "source": [
    "Luego, medido en el __tiempo promedio__ hasta la conversion"
   ]
  },
  {
   "cell_type": "code",
   "execution_count": 170,
   "metadata": {},
   "outputs": [
    {
     "data": {
      "text/plain": [
       "affiliate_channel\n",
       "api              69.941561\n",
       "content          78.817284\n",
       "direct           51.221882\n",
       "other            53.051756\n",
       "remarketing      60.840426\n",
       "sem-brand        49.673438\n",
       "sem-non-brand    41.898227\n",
       "seo              48.922138\n",
       "Name: conversion_time, dtype: float64"
      ]
     },
     "execution_count": 170,
     "metadata": {},
     "output_type": "execute_result"
    }
   ],
   "source": [
    "ds_channel=data['conversion_time'].groupby(data['affiliate_channel']).mean()\n",
    "ds_channel"
   ]
  },
  {
   "cell_type": "code",
   "execution_count": 171,
   "metadata": {},
   "outputs": [],
   "source": [
    "# ds_channel.describe() - no aporta nada"
   ]
  },
  {
   "cell_type": "code",
   "execution_count": 172,
   "metadata": {},
   "outputs": [
    {
     "data": {
      "text/plain": [
       "<matplotlib.axes._subplots.AxesSubplot at 0x1911bd0e2e8>"
      ]
     },
     "execution_count": 172,
     "metadata": {},
     "output_type": "execute_result"
    },
    {
     "data": {
      "image/png": "[encoded data removed]",
      "text/plain": [
       "<Figure size 720x432 with 1 Axes>"
      ]
     },
     "metadata": {
      "needs_background": "light"
     },
     "output_type": "display_data"
    }
   ],
   "source": [
    "plt.figure(figsize=(10,6))\n",
    "sns.distplot(ds_channel.dropna())"
   ]
  },
  {
   "cell_type": "markdown",
   "metadata": {},
   "source": [
    "¿Cual es la media del tiempo de conversion en general (sin agrupar por canal)?"
   ]
  },
  {
   "cell_type": "code",
   "execution_count": 173,
   "metadata": {},
   "outputs": [
    {
     "data": {
      "text/plain": [
       "51.14776345942085"
      ]
     },
     "execution_count": 173,
     "metadata": {},
     "output_type": "execute_result"
    }
   ],
   "source": [
    "ds_gral=data['conversion_time'].mean()\n",
    "ds_gral"
   ]
  },
  {
   "cell_type": "markdown",
   "metadata": {},
   "source": [
    "Veamos ahora, como es la conversion comparando por __affiliate_provider__"
   ]
  },
  {
   "cell_type": "markdown",
   "metadata": {},
   "source": [
    "Primero, comparando la cantidad de conversiones"
   ]
  },
  {
   "cell_type": "code",
   "execution_count": 174,
   "metadata": {},
   "outputs": [
    {
     "data": {
      "text/plain": [
       "affiliate_provider\n",
       "baidu                      8\n",
       "bing                     576\n",
       "craigslist              1149\n",
       "direct                 44998\n",
       "email-marketing           30\n",
       "facebook                 647\n",
       "facebook-open-graph      123\n",
       "google                 15382\n",
       "gsp                       34\n",
       "meetup                    42\n",
       "naver                     11\n",
       "other                   3696\n",
       "padmapper                208\n",
       "vast                     182\n",
       "wayn                       0\n",
       "yahoo                    112\n",
       "yandex                     4\n",
       "Name: conversion_time, dtype: int64"
      ]
     },
     "execution_count": 174,
     "metadata": {},
     "output_type": "execute_result"
    }
   ],
   "source": [
    "ds_provider=data['conversion_time'].groupby(data['affiliate_provider']).count()\n",
    "ds_provider"
   ]
  },
  {
   "cell_type": "markdown",
   "metadata": {},
   "source": [
    "Luego, comparando el tiempo medio para la conversion"
   ]
  },
  {
   "cell_type": "code",
   "execution_count": 175,
   "metadata": {},
   "outputs": [
    {
     "data": {
      "text/plain": [
       "affiliate_provider\n",
       "baidu                   70.500000\n",
       "bing                    38.465278\n",
       "craigslist              42.743255\n",
       "direct                  51.217032\n",
       "email-marketing         83.566667\n",
       "facebook                55.724884\n",
       "facebook-open-graph     87.804878\n",
       "google                  48.098557\n",
       "gsp                    132.558824\n",
       "meetup                 203.952381\n",
       "naver                   39.636364\n",
       "other                   62.093344\n",
       "padmapper               79.620192\n",
       "vast                    26.928571\n",
       "wayn                          NaN\n",
       "yahoo                   61.580357\n",
       "yandex                  39.500000\n",
       "Name: conversion_time, dtype: float64"
      ]
     },
     "execution_count": 175,
     "metadata": {},
     "output_type": "execute_result"
    }
   ],
   "source": [
    "ds_provider=data['conversion_time'].groupby(data['affiliate_provider']).mean()\n",
    "ds_provider"
   ]
  },
  {
   "cell_type": "code",
   "execution_count": 176,
   "metadata": {},
   "outputs": [
    {
     "data": {
      "text/plain": [
       "count     16.000000\n",
       "mean      70.249411\n",
       "std       44.018248\n",
       "min       26.928571\n",
       "25%       41.966532\n",
       "50%       58.652621\n",
       "75%       80.606811\n",
       "max      203.952381\n",
       "Name: conversion_time, dtype: float64"
      ]
     },
     "execution_count": 176,
     "metadata": {},
     "output_type": "execute_result"
    }
   ],
   "source": [
    "ds_provider.describe()"
   ]
  },
  {
   "cell_type": "code",
   "execution_count": 177,
   "metadata": {},
   "outputs": [
    {
     "data": {
      "text/plain": [
       "<matplotlib.axes._subplots.AxesSubplot at 0x1911c928278>"
      ]
     },
     "execution_count": 177,
     "metadata": {},
     "output_type": "execute_result"
    },
    {
     "data": {
      "image/png": "[encoded data removed]",
      "text/plain": [
       "<Figure size 720x432 with 1 Axes>"
      ]
     },
     "metadata": {
      "needs_background": "light"
     },
     "output_type": "display_data"
    }
   ],
   "source": [
    "plt.figure(figsize=(10,6))\n",
    "sns.distplot(ds_provider.dropna())"
   ]
  },
  {
   "cell_type": "markdown",
   "metadata": {},
   "source": [
    "**17** Analicemos el rebote (sesiones que no se transforman en conversion)"
   ]
  },
  {
   "cell_type": "code",
   "execution_count": 178,
   "metadata": {},
   "outputs": [],
   "source": [
    "data_no_converted = data.query(' country_destination == \"NDF\" ')\n",
    "data_converted = data.query(' country_destination != \"NDF\" ')"
   ]
  },
  {
   "cell_type": "code",
   "execution_count": 179,
   "metadata": {},
   "outputs": [
    {
     "data": {
      "text/plain": [
       "affiliate_channel\n",
       "api               3158\n",
       "content           1652\n",
       "direct           33943\n",
       "other             2843\n",
       "remarketing        320\n",
       "sem-brand         6855\n",
       "sem-non-brand     4859\n",
       "seo               2258\n",
       "Name: country_destination, dtype: int64"
      ]
     },
     "execution_count": 179,
     "metadata": {},
     "output_type": "execute_result"
    }
   ],
   "source": [
    "data_no_converted['country_destination'].groupby(data_no_converted['affiliate_channel']).count()"
   ]
  },
  {
   "cell_type": "code",
   "execution_count": 180,
   "metadata": {},
   "outputs": [
    {
     "data": {
      "text/plain": [
       "signup_method\n",
       "basic       21649\n",
       "facebook    34181\n",
       "google         58\n",
       "Name: country_destination, dtype: int64"
      ]
     },
     "execution_count": 180,
     "metadata": {},
     "output_type": "execute_result"
    }
   ],
   "source": [
    "data_no_converted['country_destination'].groupby(data_no_converted['signup_method']).count()"
   ]
  },
  {
   "cell_type": "code",
   "execution_count": 181,
   "metadata": {},
   "outputs": [
    {
     "data": {
      "text/plain": [
       "signup_method\n",
       "basic       43967\n",
       "facebook    23152\n",
       "google         83\n",
       "Name: country_destination, dtype: int64"
      ]
     },
     "execution_count": 181,
     "metadata": {},
     "output_type": "execute_result"
    }
   ],
   "source": [
    "data_converted['country_destination'].groupby(data_converted['signup_method']).count()"
   ]
  },
  {
   "cell_type": "markdown",
   "metadata": {},
   "source": [
    "**18** ¿Hay alguna relación entre __age__ y __conversion_time__?"
   ]
  },
  {
   "cell_type": "code",
   "execution_count": 187,
   "metadata": {},
   "outputs": [
    {
     "data": {
      "text/plain": [
       "count    67202.000000\n",
       "mean        51.147763\n",
       "std         93.778974\n",
       "min          0.000000\n",
       "25%          1.000000\n",
       "50%          4.000000\n",
       "75%         46.000000\n",
       "max       1369.000000\n",
       "Name: conversion_time, dtype: float64"
      ]
     },
     "execution_count": 187,
     "metadata": {},
     "output_type": "execute_result"
    }
   ],
   "source": [
    "data_converted.conversion_time.describe()\n"
   ]
  },
  {
   "cell_type": "code",
   "execution_count": 183,
   "metadata": {},
   "outputs": [
    {
     "data": {
      "image/png": "[encoded data removed]",
      "text/plain": [
       "<Figure size 720x432 with 1 Axes>"
      ]
     },
     "metadata": {
      "needs_background": "light"
     },
     "output_type": "display_data"
    }
   ],
   "source": [
    "plt.figure(figsize=(10,6))\n",
    "sns.scatterplot(x=data_converted['age'], y=data_converted['conversion_time'] )\n",
    "sns.despine(left=True)"
   ]
  },
  {
   "cell_type": "markdown",
   "metadata": {},
   "source": [
    "**19** ¿El idioma determina el pais a viajar?"
   ]
  },
  {
   "cell_type": "code",
   "execution_count": 193,
   "metadata": {},
   "outputs": [
    {
     "ename": "TypeError",
     "evalue": "'Series' objects are mutable, thus they cannot be hashed",
     "output_type": "error",
     "traceback": [
      "\u001b[1;31m---------------------------------------------------------------------------\u001b[0m",
      "\u001b[1;31mTypeError\u001b[0m                                 Traceback (most recent call last)",
      "\u001b[1;32m<ipython-input-193-f31265ec9fa6>\u001b[0m in \u001b[0;36m<module>\u001b[1;34m()\u001b[0m\n\u001b[1;32m----> 1\u001b[1;33m \u001b[0mdata_converted\u001b[0m\u001b[1;33m.\u001b[0m\u001b[0mgroupby\u001b[0m\u001b[1;33m(\u001b[0m \u001b[0mdata_converted\u001b[0m\u001b[1;33m[\u001b[0m\u001b[1;34m'language'\u001b[0m\u001b[1;33m]\u001b[0m\u001b[1;33m,\u001b[0m\u001b[0mdata_converted\u001b[0m\u001b[1;33m[\u001b[0m\u001b[1;34m'country_destination'\u001b[0m\u001b[1;33m]\u001b[0m \u001b[1;33m)\u001b[0m\u001b[1;33m.\u001b[0m\u001b[0mcount\u001b[0m\u001b[1;33m(\u001b[0m\u001b[1;33m)\u001b[0m\u001b[1;33m\u001b[0m\u001b[0m\n\u001b[0m",
      "\u001b[1;32mC:\\ProgramData\\Anaconda3\\envs\\diplodatos-ayv\\lib\\site-packages\\pandas\\core\\generic.py\u001b[0m in \u001b[0;36mgroupby\u001b[1;34m(self, by, axis, level, as_index, sort, group_keys, squeeze, observed, **kwargs)\u001b[0m\n\u001b[0;32m   6660\u001b[0m         \u001b[1;32mif\u001b[0m \u001b[0mlevel\u001b[0m \u001b[1;32mis\u001b[0m \u001b[1;32mNone\u001b[0m \u001b[1;32mand\u001b[0m \u001b[0mby\u001b[0m \u001b[1;32mis\u001b[0m \u001b[1;32mNone\u001b[0m\u001b[1;33m:\u001b[0m\u001b[1;33m\u001b[0m\u001b[0m\n\u001b[0;32m   6661\u001b[0m             \u001b[1;32mraise\u001b[0m \u001b[0mTypeError\u001b[0m\u001b[1;33m(\u001b[0m\u001b[1;34m\"You have to supply one of 'by' and 'level'\"\u001b[0m\u001b[1;33m)\u001b[0m\u001b[1;33m\u001b[0m\u001b[0m\n\u001b[1;32m-> 6662\u001b[1;33m         \u001b[0maxis\u001b[0m \u001b[1;33m=\u001b[0m \u001b[0mself\u001b[0m\u001b[1;33m.\u001b[0m\u001b[0m_get_axis_number\u001b[0m\u001b[1;33m(\u001b[0m\u001b[0maxis\u001b[0m\u001b[1;33m)\u001b[0m\u001b[1;33m\u001b[0m\u001b[0m\n\u001b[0m\u001b[0;32m   6663\u001b[0m         return groupby(self, by=by, axis=axis, level=level, as_index=as_index,\n\u001b[0;32m   6664\u001b[0m                        \u001b[0msort\u001b[0m\u001b[1;33m=\u001b[0m\u001b[0msort\u001b[0m\u001b[1;33m,\u001b[0m \u001b[0mgroup_keys\u001b[0m\u001b[1;33m=\u001b[0m\u001b[0mgroup_keys\u001b[0m\u001b[1;33m,\u001b[0m \u001b[0msqueeze\u001b[0m\u001b[1;33m=\u001b[0m\u001b[0msqueeze\u001b[0m\u001b[1;33m,\u001b[0m\u001b[1;33m\u001b[0m\u001b[0m\n",
      "\u001b[1;32mC:\\ProgramData\\Anaconda3\\envs\\diplodatos-ayv\\lib\\site-packages\\pandas\\core\\generic.py\u001b[0m in \u001b[0;36m_get_axis_number\u001b[1;34m(self, axis)\u001b[0m\n\u001b[0;32m    363\u001b[0m \u001b[1;33m\u001b[0m\u001b[0m\n\u001b[0;32m    364\u001b[0m     \u001b[1;32mdef\u001b[0m \u001b[0m_get_axis_number\u001b[0m\u001b[1;33m(\u001b[0m\u001b[0mself\u001b[0m\u001b[1;33m,\u001b[0m \u001b[0maxis\u001b[0m\u001b[1;33m)\u001b[0m\u001b[1;33m:\u001b[0m\u001b[1;33m\u001b[0m\u001b[0m\n\u001b[1;32m--> 365\u001b[1;33m         \u001b[0maxis\u001b[0m \u001b[1;33m=\u001b[0m \u001b[0mself\u001b[0m\u001b[1;33m.\u001b[0m\u001b[0m_AXIS_ALIASES\u001b[0m\u001b[1;33m.\u001b[0m\u001b[0mget\u001b[0m\u001b[1;33m(\u001b[0m\u001b[0maxis\u001b[0m\u001b[1;33m,\u001b[0m \u001b[0maxis\u001b[0m\u001b[1;33m)\u001b[0m\u001b[1;33m\u001b[0m\u001b[0m\n\u001b[0m\u001b[0;32m    366\u001b[0m         \u001b[1;32mif\u001b[0m \u001b[0mis_integer\u001b[0m\u001b[1;33m(\u001b[0m\u001b[0maxis\u001b[0m\u001b[1;33m)\u001b[0m\u001b[1;33m:\u001b[0m\u001b[1;33m\u001b[0m\u001b[0m\n\u001b[0;32m    367\u001b[0m             \u001b[1;32mif\u001b[0m \u001b[0maxis\u001b[0m \u001b[1;32min\u001b[0m \u001b[0mself\u001b[0m\u001b[1;33m.\u001b[0m\u001b[0m_AXIS_NAMES\u001b[0m\u001b[1;33m:\u001b[0m\u001b[1;33m\u001b[0m\u001b[0m\n",
      "\u001b[1;32mC:\\ProgramData\\Anaconda3\\envs\\diplodatos-ayv\\lib\\site-packages\\pandas\\core\\generic.py\u001b[0m in \u001b[0;36m__hash__\u001b[1;34m(self)\u001b[0m\n\u001b[0;32m   1490\u001b[0m     \u001b[1;32mdef\u001b[0m \u001b[0m__hash__\u001b[0m\u001b[1;33m(\u001b[0m\u001b[0mself\u001b[0m\u001b[1;33m)\u001b[0m\u001b[1;33m:\u001b[0m\u001b[1;33m\u001b[0m\u001b[0m\n\u001b[0;32m   1491\u001b[0m         raise TypeError('{0!r} objects are mutable, thus they cannot be'\n\u001b[1;32m-> 1492\u001b[1;33m                         ' hashed'.format(self.__class__.__name__))\n\u001b[0m\u001b[0;32m   1493\u001b[0m \u001b[1;33m\u001b[0m\u001b[0m\n\u001b[0;32m   1494\u001b[0m     \u001b[1;32mdef\u001b[0m \u001b[0m__iter__\u001b[0m\u001b[1;33m(\u001b[0m\u001b[0mself\u001b[0m\u001b[1;33m)\u001b[0m\u001b[1;33m:\u001b[0m\u001b[1;33m\u001b[0m\u001b[0m\n",
      "\u001b[1;31mTypeError\u001b[0m: 'Series' objects are mutable, thus they cannot be hashed"
     ]
    }
   ],
   "source": [
    "data_converted.groupby( data_converted['language'],data_converted['country_destination'] ).count()"
   ]
  },
  {
   "cell_type": "code",
   "execution_count": null,
   "metadata": {},
   "outputs": [],
   "source": []
  }
 ],
 "metadata": {
  "kernelspec": {
   "display_name": "Python 3",
   "language": "python",
   "name": "python3"
  },
  "language_info": {
   "codemirror_mode": {
    "name": "ipython",
    "version": 3
   },
   "file_extension": ".py",
   "mimetype": "text/x-python",
   "name": "python",
   "nbconvert_exporter": "python",
   "pygments_lexer": "ipython3",
   "version": "3.5.6"
  }
 },
 "nbformat": 4,
 "nbformat_minor": 2
}
